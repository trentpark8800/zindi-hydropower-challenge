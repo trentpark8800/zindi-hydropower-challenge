{
 "cells": [
  {
   "cell_type": "code",
   "execution_count": null,
   "id": "0d9e93af",
   "metadata": {},
   "outputs": [
    {
     "name": "stderr",
     "output_type": "stream",
     "text": [
      "Support for Torch based models not available. To enable them, install \"darts\", \"u8darts[torch]\" or \"u8darts[all]\" (with pip); or \"u8darts-torch\" or \"u8darts-all\" (with conda).\n"
     ]
    }
   ],
   "source": [
    "import pandas as pd\n",
    "import duckdb as ddb\n",
    "import optuna\n",
    "import numpy as np\n",
    "\n",
    "from darts import TimeSeries\n",
    "from darts.models import LinearRegressionModel\n",
    "from darts.dataprocessing.transformers import Scaler\n",
    "from darts.metrics import rmse\n",
    "\n",
    "from sklearn.preprocessing import StandardScaler\n",
    "\n",
    "import matplotlib.pyplot as plt\n",
    "import seaborn as sns\n",
    "\n",
    "import warnings\n",
    "warnings.filterwarnings('ignore')"
   ]
  },
  {
   "cell_type": "code",
   "execution_count": 2,
   "id": "004e27b8",
   "metadata": {},
   "outputs": [],
   "source": [
    "con = ddb.connect(\"./kalam_hydropower.db\", read_only=True)"
   ]
  },
  {
   "cell_type": "code",
   "execution_count": 3,
   "id": "8f61814b",
   "metadata": {},
   "outputs": [],
   "source": [
    "# These are devices with weak signals which we can exclude from the analysis - these were mentioned in the samplesubmission notebook\n",
    "devices_to_drop = [\"3\", \"5\", \"11\", \"14\", \"15\", \"17\", \"24\", \"25\", \"27\", \"33\", \"4\", \"9\"]"
   ]
  },
  {
   "cell_type": "markdown",
   "id": "b285993e",
   "metadata": {},
   "source": [
    "## Modelling and Submission\n",
    "\n",
    "Now that we have an idea of features and reasonable data structures, this next section aims to:\n",
    "- Structure the data to be used with the Darts package - this depends on a `TimeSeries` data type rather than dataframes\n",
    "- Splitting and scaling the data appropriately to avoid leakage in our test sets\n",
    "- Creating an appropriate scoring and prediction function to easily format our results"
   ]
  },
  {
   "cell_type": "code",
   "execution_count": 4,
   "id": "9be53834",
   "metadata": {},
   "outputs": [
    {
     "data": {
      "application/vnd.microsoft.datawrangler.viewer.v0+json": {
       "columns": [
        {
         "name": "index",
         "rawType": "int64",
         "type": "integer"
        },
        {
         "name": "date",
         "rawType": "datetime64[us]",
         "type": "unknown"
        },
        {
         "name": "source",
         "rawType": "object",
         "type": "string"
        },
        {
         "name": "kwh",
         "rawType": "float64",
         "type": "float"
        }
       ],
       "conversionMethod": "pd.DataFrame",
       "ref": "9b64316e-8361-4f8e-9f75-f1e8994ac0a2",
       "rows": [
        [
         "373",
         "2024-07-01 00:00:00",
         "consumer_device_10_data_user_1",
         "0.0"
        ],
        [
         "374",
         "2024-07-02 00:00:00",
         "consumer_device_10_data_user_1",
         "0.0"
        ],
        [
         "375",
         "2024-07-03 00:00:00",
         "consumer_device_10_data_user_1",
         "0.0"
        ],
        [
         "376",
         "2024-07-04 00:00:00",
         "consumer_device_10_data_user_1",
         "0.0"
        ],
        [
         "377",
         "2024-07-05 00:00:00",
         "consumer_device_10_data_user_1",
         "0.0"
        ]
       ],
       "shape": {
        "columns": 3,
        "rows": 5
       }
      },
      "text/html": [
       "<div>\n",
       "<style scoped>\n",
       "    .dataframe tbody tr th:only-of-type {\n",
       "        vertical-align: middle;\n",
       "    }\n",
       "\n",
       "    .dataframe tbody tr th {\n",
       "        vertical-align: top;\n",
       "    }\n",
       "\n",
       "    .dataframe thead th {\n",
       "        text-align: right;\n",
       "    }\n",
       "</style>\n",
       "<table border=\"1\" class=\"dataframe\">\n",
       "  <thead>\n",
       "    <tr style=\"text-align: right;\">\n",
       "      <th></th>\n",
       "      <th>date</th>\n",
       "      <th>source</th>\n",
       "      <th>kwh</th>\n",
       "    </tr>\n",
       "  </thead>\n",
       "  <tbody>\n",
       "    <tr>\n",
       "      <th>373</th>\n",
       "      <td>2024-07-01</td>\n",
       "      <td>consumer_device_10_data_user_1</td>\n",
       "      <td>0.0</td>\n",
       "    </tr>\n",
       "    <tr>\n",
       "      <th>374</th>\n",
       "      <td>2024-07-02</td>\n",
       "      <td>consumer_device_10_data_user_1</td>\n",
       "      <td>0.0</td>\n",
       "    </tr>\n",
       "    <tr>\n",
       "      <th>375</th>\n",
       "      <td>2024-07-03</td>\n",
       "      <td>consumer_device_10_data_user_1</td>\n",
       "      <td>0.0</td>\n",
       "    </tr>\n",
       "    <tr>\n",
       "      <th>376</th>\n",
       "      <td>2024-07-04</td>\n",
       "      <td>consumer_device_10_data_user_1</td>\n",
       "      <td>0.0</td>\n",
       "    </tr>\n",
       "    <tr>\n",
       "      <th>377</th>\n",
       "      <td>2024-07-05</td>\n",
       "      <td>consumer_device_10_data_user_1</td>\n",
       "      <td>0.0</td>\n",
       "    </tr>\n",
       "  </tbody>\n",
       "</table>\n",
       "</div>"
      ],
      "text/plain": [
       "          date                          source  kwh\n",
       "373 2024-07-01  consumer_device_10_data_user_1  0.0\n",
       "374 2024-07-02  consumer_device_10_data_user_1  0.0\n",
       "375 2024-07-03  consumer_device_10_data_user_1  0.0\n",
       "376 2024-07-04  consumer_device_10_data_user_1  0.0\n",
       "377 2024-07-05  consumer_device_10_data_user_1  0.0"
      ]
     },
     "execution_count": 4,
     "metadata": {},
     "output_type": "execute_result"
    }
   ],
   "source": [
    "# It is clear from our sub-plots that there is a long period of 'no signal' in the data, so I'll use data from 2024-07-01 onward\n",
    "# for simplicity and to avoid too much zero biasing. Ofcourse, the fillna(0) adds some degree of biasing as well\n",
    "filtered_to_forecast_df = con.sql(\n",
    "    \"\"\"select\n",
    "        date, source, consumer_device, data_user, kwh \n",
    "    from prepared.daily_hydropower_production\n",
    "\"\"\").to_df()\n",
    "\n",
    "filtered_to_forecast_df = filtered_to_forecast_df[~(filtered_to_forecast_df[\"consumer_device\"].isin(devices_to_drop))]\n",
    "\n",
    "filtered_to_forecast_pivotted_df = filtered_to_forecast_df.pivot(columns=\"source\", index=\"date\", values=\"kwh\").copy()\n",
    "filtered_to_forecast_pivotted_df.fillna(0, inplace=True)\n",
    "\n",
    "filtered_to_forecast_df = filtered_to_forecast_pivotted_df.melt(value_vars=list(filtered_to_forecast_pivotted_df.columns), var_name=\"source\", value_name=\"kwh\", ignore_index=False)\n",
    "\n",
    "filtered_to_forecast_df.reset_index(inplace=True, drop=False)\n",
    "\n",
    "\n",
    "filtered_to_forecast_df = filtered_to_forecast_df[filtered_to_forecast_df[\"date\"] >= pd.Timestamp(\"2024-07-01\")]\n",
    "\n",
    "filtered_to_forecast_df.head()\n"
   ]
  },
  {
   "cell_type": "code",
   "execution_count": 5,
   "id": "d1406741",
   "metadata": {},
   "outputs": [
    {
     "data": {
      "text/plain": [
       "(35785, 3)"
      ]
     },
     "execution_count": 5,
     "metadata": {},
     "output_type": "execute_result"
    }
   ],
   "source": [
    "filtered_to_forecast_df.shape"
   ]
  },
  {
   "cell_type": "code",
   "execution_count": 6,
   "id": "cfb005db",
   "metadata": {},
   "outputs": [],
   "source": [
    "# Now I acutally want to use the device, user and source as static covariates in darts, this is a bit of a roundabout\n",
    "# way of getting to the values but this gets the consumer device and data user numbers back\n",
    "filtered_to_forecast_df[['consumer_device', 'data_user']] = filtered_to_forecast_df['source'].str.extract(r'consumer_device_(\\d+)_data_user_(\\d+)')\n",
    "filtered_to_forecast_df[\"consumer_device\"] = filtered_to_forecast_df[\"consumer_device\"].astype(int)\n",
    "filtered_to_forecast_df[\"data_user\"] = filtered_to_forecast_df[\"data_user\"].astype(int)"
   ]
  },
  {
   "cell_type": "code",
   "execution_count": 7,
   "id": "acd7b339",
   "metadata": {},
   "outputs": [
    {
     "data": {
      "text/plain": [
       "(35785, 5)"
      ]
     },
     "execution_count": 7,
     "metadata": {},
     "output_type": "execute_result"
    }
   ],
   "source": [
    "filtered_to_forecast_df.shape"
   ]
  },
  {
   "cell_type": "code",
   "execution_count": 9,
   "id": "941ce43c",
   "metadata": {},
   "outputs": [
    {
     "data": {
      "application/vnd.microsoft.datawrangler.viewer.v0+json": {
       "columns": [
        {
         "name": "index",
         "rawType": "int64",
         "type": "integer"
        },
        {
         "name": "date",
         "rawType": "datetime64[us]",
         "type": "unknown"
        },
        {
         "name": "avg_temperature",
         "rawType": "float64",
         "type": "float"
        },
        {
         "name": "avg_dewpoint_temperature",
         "rawType": "float64",
         "type": "float"
        },
        {
         "name": "avg_u_wind_component",
         "rawType": "float64",
         "type": "float"
        },
        {
         "name": "avg_v_wind_component",
         "rawType": "float64",
         "type": "float"
        },
        {
         "name": "total_precipitation",
         "rawType": "float64",
         "type": "float"
        },
        {
         "name": "total_snowfall",
         "rawType": "float64",
         "type": "float"
        },
        {
         "name": "avg_snow_cover_perc",
         "rawType": "float64",
         "type": "float"
        },
        {
         "name": "temp_dew_diff",
         "rawType": "float64",
         "type": "float"
        },
        {
         "name": "wind_speed",
         "rawType": "float64",
         "type": "float"
        },
        {
         "name": "precip_snow_ratio",
         "rawType": "float64",
         "type": "float"
        },
        {
         "name": "precip_minus_snow",
         "rawType": "float64",
         "type": "float"
        },
        {
         "name": "rolling_precip_7d",
         "rawType": "float64",
         "type": "float"
        },
        {
         "name": "rolling_snow_30d",
         "rawType": "float64",
         "type": "float"
        },
        {
         "name": "melt_potential",
         "rawType": "float64",
         "type": "float"
        },
        {
         "name": "wind_variability_3d",
         "rawType": "float64",
         "type": "float"
        },
        {
         "name": "dayofyear",
         "rawType": "int32",
         "type": "integer"
        },
        {
         "name": "month",
         "rawType": "int32",
         "type": "integer"
        },
        {
         "name": "sin_doy",
         "rawType": "float64",
         "type": "float"
        },
        {
         "name": "cos_doy",
         "rawType": "float64",
         "type": "float"
        }
       ],
       "conversionMethod": "pd.DataFrame",
       "ref": "4993454c-7050-47a5-ba13-5be382272ce6",
       "rows": [
        [
         "0",
         "2023-06-03 00:00:00",
         "1.8602802623636363",
         "-3.348663885",
         "0.02505354445454546",
         "-0.6577259409999999",
         "0.004557000000000001",
         "0.0",
         "99.97265625",
         "5.208944147363637",
         "0.6582029273362975",
         "4557.000000000001",
         "0.004557000000000001",
         null,
         null,
         "185.9771591979396",
         null,
         "154",
         "6",
         "0.4711595076738638",
         "-0.8820480249558537"
        ],
        [
         "1",
         "2023-06-04 00:00:00",
         "3.9927396138333333",
         "-1.9052026112499998",
         "-0.18090852095833332",
         "-0.5052978992916666",
         "0.024096401999999996",
         "0.0",
         "99.97265625",
         "5.897942225083333",
         "0.5367064933312276",
         "24096.402",
         "0.024096401999999996",
         null,
         null,
         "399.16478490951755",
         null,
         "155",
         "6",
         "0.4559066935084588",
         "-0.8900275764346767"
        ],
        [
         "2",
         "2023-06-05 00:00:00",
         "4.794523493333333",
         "-3.7816572824166665",
         "-0.145114262875",
         "-0.4981832901666667",
         "0.011579616600000002",
         "1.1659999999999995e-06",
         "99.97265625",
         "8.57618077575",
         "0.5188879839532227",
         "5346.083379501388",
         "0.011578450600000002",
         null,
         null,
         "479.3212490815625",
         "0.07581505589506578",
         "156",
         "6",
         "0.440518784350495",
         "-0.8977433935342337"
        ],
        [
         "3",
         "2023-06-06 00:00:00",
         "6.304390207916668",
         "-4.670614623874999",
         "0.018054326333333332",
         "-0.47862307224999995",
         "0.008913719000000002",
         "5.22e-08",
         "99.97265625",
         "10.975004831791667",
         "0.4789634683244424",
         "8471.506367610724",
         "0.008913666800000003",
         null,
         null,
         "630.2666351219191",
         "0.02956834783339818",
         "157",
         "6",
         "0.42500033996955416",
         "-0.9051931898913974"
        ],
        [
         "4",
         "2023-06-07 00:00:00",
         "7.003922399874999",
         "-3.965763473583332",
         "0.0837014565416667",
         "-0.5165977413749999",
         "0.008649500000000001",
         "0.0",
         "99.97265625",
         "10.969685873458332",
         "0.5233346541372431",
         "8649.500000000002",
         "0.008649500000000001",
         null,
         null,
         "700.2007264843784",
         "0.02443543176875272",
         "158",
         "6",
         "0.4093559588156213",
         "-0.9123747579707273"
        ]
       ],
       "shape": {
        "columns": 20,
        "rows": 5
       }
      },
      "text/html": [
       "<div>\n",
       "<style scoped>\n",
       "    .dataframe tbody tr th:only-of-type {\n",
       "        vertical-align: middle;\n",
       "    }\n",
       "\n",
       "    .dataframe tbody tr th {\n",
       "        vertical-align: top;\n",
       "    }\n",
       "\n",
       "    .dataframe thead th {\n",
       "        text-align: right;\n",
       "    }\n",
       "</style>\n",
       "<table border=\"1\" class=\"dataframe\">\n",
       "  <thead>\n",
       "    <tr style=\"text-align: right;\">\n",
       "      <th></th>\n",
       "      <th>date</th>\n",
       "      <th>avg_temperature</th>\n",
       "      <th>avg_dewpoint_temperature</th>\n",
       "      <th>avg_u_wind_component</th>\n",
       "      <th>avg_v_wind_component</th>\n",
       "      <th>total_precipitation</th>\n",
       "      <th>total_snowfall</th>\n",
       "      <th>avg_snow_cover_perc</th>\n",
       "      <th>temp_dew_diff</th>\n",
       "      <th>wind_speed</th>\n",
       "      <th>precip_snow_ratio</th>\n",
       "      <th>precip_minus_snow</th>\n",
       "      <th>rolling_precip_7d</th>\n",
       "      <th>rolling_snow_30d</th>\n",
       "      <th>melt_potential</th>\n",
       "      <th>wind_variability_3d</th>\n",
       "      <th>dayofyear</th>\n",
       "      <th>month</th>\n",
       "      <th>sin_doy</th>\n",
       "      <th>cos_doy</th>\n",
       "    </tr>\n",
       "  </thead>\n",
       "  <tbody>\n",
       "    <tr>\n",
       "      <th>0</th>\n",
       "      <td>2023-06-03</td>\n",
       "      <td>1.860280</td>\n",
       "      <td>-3.348664</td>\n",
       "      <td>0.025054</td>\n",
       "      <td>-0.657726</td>\n",
       "      <td>0.004557</td>\n",
       "      <td>0.000000e+00</td>\n",
       "      <td>99.972656</td>\n",
       "      <td>5.208944</td>\n",
       "      <td>0.658203</td>\n",
       "      <td>4557.000000</td>\n",
       "      <td>0.004557</td>\n",
       "      <td>NaN</td>\n",
       "      <td>NaN</td>\n",
       "      <td>185.977159</td>\n",
       "      <td>NaN</td>\n",
       "      <td>154</td>\n",
       "      <td>6</td>\n",
       "      <td>0.471160</td>\n",
       "      <td>-0.882048</td>\n",
       "    </tr>\n",
       "    <tr>\n",
       "      <th>1</th>\n",
       "      <td>2023-06-04</td>\n",
       "      <td>3.992740</td>\n",
       "      <td>-1.905203</td>\n",
       "      <td>-0.180909</td>\n",
       "      <td>-0.505298</td>\n",
       "      <td>0.024096</td>\n",
       "      <td>0.000000e+00</td>\n",
       "      <td>99.972656</td>\n",
       "      <td>5.897942</td>\n",
       "      <td>0.536706</td>\n",
       "      <td>24096.402000</td>\n",
       "      <td>0.024096</td>\n",
       "      <td>NaN</td>\n",
       "      <td>NaN</td>\n",
       "      <td>399.164785</td>\n",
       "      <td>NaN</td>\n",
       "      <td>155</td>\n",
       "      <td>6</td>\n",
       "      <td>0.455907</td>\n",
       "      <td>-0.890028</td>\n",
       "    </tr>\n",
       "    <tr>\n",
       "      <th>2</th>\n",
       "      <td>2023-06-05</td>\n",
       "      <td>4.794523</td>\n",
       "      <td>-3.781657</td>\n",
       "      <td>-0.145114</td>\n",
       "      <td>-0.498183</td>\n",
       "      <td>0.011580</td>\n",
       "      <td>1.166000e-06</td>\n",
       "      <td>99.972656</td>\n",
       "      <td>8.576181</td>\n",
       "      <td>0.518888</td>\n",
       "      <td>5346.083380</td>\n",
       "      <td>0.011578</td>\n",
       "      <td>NaN</td>\n",
       "      <td>NaN</td>\n",
       "      <td>479.321249</td>\n",
       "      <td>0.075815</td>\n",
       "      <td>156</td>\n",
       "      <td>6</td>\n",
       "      <td>0.440519</td>\n",
       "      <td>-0.897743</td>\n",
       "    </tr>\n",
       "    <tr>\n",
       "      <th>3</th>\n",
       "      <td>2023-06-06</td>\n",
       "      <td>6.304390</td>\n",
       "      <td>-4.670615</td>\n",
       "      <td>0.018054</td>\n",
       "      <td>-0.478623</td>\n",
       "      <td>0.008914</td>\n",
       "      <td>5.220000e-08</td>\n",
       "      <td>99.972656</td>\n",
       "      <td>10.975005</td>\n",
       "      <td>0.478963</td>\n",
       "      <td>8471.506368</td>\n",
       "      <td>0.008914</td>\n",
       "      <td>NaN</td>\n",
       "      <td>NaN</td>\n",
       "      <td>630.266635</td>\n",
       "      <td>0.029568</td>\n",
       "      <td>157</td>\n",
       "      <td>6</td>\n",
       "      <td>0.425000</td>\n",
       "      <td>-0.905193</td>\n",
       "    </tr>\n",
       "    <tr>\n",
       "      <th>4</th>\n",
       "      <td>2023-06-07</td>\n",
       "      <td>7.003922</td>\n",
       "      <td>-3.965763</td>\n",
       "      <td>0.083701</td>\n",
       "      <td>-0.516598</td>\n",
       "      <td>0.008650</td>\n",
       "      <td>0.000000e+00</td>\n",
       "      <td>99.972656</td>\n",
       "      <td>10.969686</td>\n",
       "      <td>0.523335</td>\n",
       "      <td>8649.500000</td>\n",
       "      <td>0.008650</td>\n",
       "      <td>NaN</td>\n",
       "      <td>NaN</td>\n",
       "      <td>700.200726</td>\n",
       "      <td>0.024435</td>\n",
       "      <td>158</td>\n",
       "      <td>6</td>\n",
       "      <td>0.409356</td>\n",
       "      <td>-0.912375</td>\n",
       "    </tr>\n",
       "  </tbody>\n",
       "</table>\n",
       "</div>"
      ],
      "text/plain": [
       "        date  avg_temperature  avg_dewpoint_temperature  avg_u_wind_component  \\\n",
       "0 2023-06-03         1.860280                 -3.348664              0.025054   \n",
       "1 2023-06-04         3.992740                 -1.905203             -0.180909   \n",
       "2 2023-06-05         4.794523                 -3.781657             -0.145114   \n",
       "3 2023-06-06         6.304390                 -4.670615              0.018054   \n",
       "4 2023-06-07         7.003922                 -3.965763              0.083701   \n",
       "\n",
       "   avg_v_wind_component  total_precipitation  total_snowfall  \\\n",
       "0             -0.657726             0.004557    0.000000e+00   \n",
       "1             -0.505298             0.024096    0.000000e+00   \n",
       "2             -0.498183             0.011580    1.166000e-06   \n",
       "3             -0.478623             0.008914    5.220000e-08   \n",
       "4             -0.516598             0.008650    0.000000e+00   \n",
       "\n",
       "   avg_snow_cover_perc  temp_dew_diff  wind_speed  precip_snow_ratio  \\\n",
       "0            99.972656       5.208944    0.658203        4557.000000   \n",
       "1            99.972656       5.897942    0.536706       24096.402000   \n",
       "2            99.972656       8.576181    0.518888        5346.083380   \n",
       "3            99.972656      10.975005    0.478963        8471.506368   \n",
       "4            99.972656      10.969686    0.523335        8649.500000   \n",
       "\n",
       "   precip_minus_snow  rolling_precip_7d  rolling_snow_30d  melt_potential  \\\n",
       "0           0.004557                NaN               NaN      185.977159   \n",
       "1           0.024096                NaN               NaN      399.164785   \n",
       "2           0.011578                NaN               NaN      479.321249   \n",
       "3           0.008914                NaN               NaN      630.266635   \n",
       "4           0.008650                NaN               NaN      700.200726   \n",
       "\n",
       "   wind_variability_3d  dayofyear  month   sin_doy   cos_doy  \n",
       "0                  NaN        154      6  0.471160 -0.882048  \n",
       "1                  NaN        155      6  0.455907 -0.890028  \n",
       "2             0.075815        156      6  0.440519 -0.897743  \n",
       "3             0.029568        157      6  0.425000 -0.905193  \n",
       "4             0.024435        158      6  0.409356 -0.912375  "
      ]
     },
     "execution_count": 9,
     "metadata": {},
     "output_type": "execute_result"
    }
   ],
   "source": [
    "features_df = con.sql(\"select * from prepared.daily_features\").to_df()\n",
    "\n",
    "features_df.head()"
   ]
  },
  {
   "cell_type": "code",
   "execution_count": null,
   "id": "145d46b3",
   "metadata": {},
   "outputs": [],
   "source": [
    "# vector_ts = TimeSeries.from_group_dataframe(\n",
    "#     filtered_to_forecast_df,\n",
    "#     time_col=\"date\",\n",
    "#     group_cols=\"source\",\n",
    "#     static_cols=[\"consumer_device\", \"data_user\"],\n",
    "#     value_cols=[\"kwh\"]\n",
    "# )"
   ]
  },
  {
   "cell_type": "code",
   "execution_count": null,
   "id": "9607de5c",
   "metadata": {},
   "outputs": [
    {
     "data": {
      "text/plain": [
       "'consumer_device_10_data_user_1'"
      ]
     },
     "execution_count": 31,
     "metadata": {},
     "output_type": "execute_result"
    }
   ],
   "source": [
    "# vector_ts[0].static_covariates_values()[0][0]"
   ]
  },
  {
   "cell_type": "code",
   "execution_count": 11,
   "id": "94bf01c1",
   "metadata": {},
   "outputs": [],
   "source": [
    "# I setup a dictionary with a key per series, and a value containing the darts timeseries' incl. training, testing and scaled data\n",
    "# as well as the individual scalers used to invert the transformation\n",
    "ts_dict = {}\n",
    "\n",
    "for series_name in filtered_to_forecast_df[\"source\"].unique():\n",
    "        \n",
    "    try:\n",
    "\n",
    "        series_ts = TimeSeries.from_dataframe(\n",
    "            df=filtered_to_forecast_df[filtered_to_forecast_df[\"source\"] == series_name],\n",
    "            time_col=\"date\",\n",
    "            value_cols=[\"kwh\"]\n",
    "        )\n",
    "\n",
    "        scaler = Scaler(StandardScaler())\n",
    "\n",
    "        series_scaled_ts = scaler.fit_transform(series_ts)\n",
    "\n",
    "        train_ts, test_ts = series_ts.split_after(len(series_ts) - 31)\n",
    "\n",
    "        train_scaler = Scaler(StandardScaler())\n",
    "\n",
    "        train_scaled_ts = train_scaler.fit_transform(train_ts)\n",
    "\n",
    "    except Exception as e:\n",
    "        print(f\"Failed to process series {series_name} due to {e}\")\n",
    "        continue\n",
    "\n",
    "    ts_dict[series_name] = {\n",
    "        \"ts\": series_ts,\n",
    "        \"scaled_ts\": series_scaled_ts,\n",
    "        \"scaler\": scaler,\n",
    "        \"train_ts\": train_ts,\n",
    "        \"train_scaled_ts\": train_scaled_ts,\n",
    "        \"train_scaler\": train_scaler,\n",
    "        \"test_ts\": test_ts,\n",
    "    }\n"
   ]
  },
  {
   "cell_type": "code",
   "execution_count": 12,
   "id": "02d9b0ef",
   "metadata": {},
   "outputs": [],
   "source": [
    "# In darts you can pass a list of timeseries to a model's .fit function so that the model is trained on multiple series at once\n",
    "train_ts_list = [ts_dict[series_name][\"train_scaled_ts\"] for series_name in ts_dict.keys()]\n",
    "\n",
    "# These are the full series which we will use to train the final model\n",
    "ts_list = [ts_dict[series_name][\"scaled_ts\"] for series_name in ts_dict.keys()]"
   ]
  },
  {
   "cell_type": "code",
   "execution_count": 13,
   "id": "617eb367",
   "metadata": {},
   "outputs": [],
   "source": [
    "# The features we want to use need to also be scaled so that they can be used with a model like LinearRegression\n",
    "features_ts = TimeSeries.from_dataframe(features_df, time_col=\"date\")\n",
    "\n",
    "features_scaler = Scaler(StandardScaler())\n",
    "\n",
    "scaled_features_ts = features_scaler.fit_transform(features_ts)"
   ]
  },
  {
   "cell_type": "code",
   "execution_count": 14,
   "id": "de87201d",
   "metadata": {},
   "outputs": [
    {
     "data": {
      "application/vnd.microsoft.datawrangler.viewer.v0+json": {
       "columns": [
        {
         "name": "index",
         "rawType": "int64",
         "type": "integer"
        },
        {
         "name": "ID",
         "rawType": "object",
         "type": "string"
        },
        {
         "name": "kwh",
         "rawType": "int64",
         "type": "integer"
        },
        {
         "name": "date",
         "rawType": "datetime64[ns]",
         "type": "datetime"
        },
        {
         "name": "source",
         "rawType": "object",
         "type": "string"
        }
       ],
       "conversionMethod": "pd.DataFrame",
       "ref": "8b060cec-ae0e-4cef-bcac-9dabf26099a0",
       "rows": [
        [
         "0",
         "2024-09-24_consumer_device_12_data_user_1",
         "0",
         "2024-09-24 00:00:00",
         "consumer_device_12_data_user_1"
        ],
        [
         "1",
         "2024-09-25_consumer_device_12_data_user_1",
         "0",
         "2024-09-25 00:00:00",
         "consumer_device_12_data_user_1"
        ],
        [
         "2",
         "2024-09-26_consumer_device_12_data_user_1",
         "0",
         "2024-09-26 00:00:00",
         "consumer_device_12_data_user_1"
        ],
        [
         "3",
         "2024-09-27_consumer_device_12_data_user_1",
         "0",
         "2024-09-27 00:00:00",
         "consumer_device_12_data_user_1"
        ],
        [
         "4",
         "2024-09-28_consumer_device_12_data_user_1",
         "0",
         "2024-09-28 00:00:00",
         "consumer_device_12_data_user_1"
        ]
       ],
       "shape": {
        "columns": 4,
        "rows": 5
       }
      },
      "text/html": [
       "<div>\n",
       "<style scoped>\n",
       "    .dataframe tbody tr th:only-of-type {\n",
       "        vertical-align: middle;\n",
       "    }\n",
       "\n",
       "    .dataframe tbody tr th {\n",
       "        vertical-align: top;\n",
       "    }\n",
       "\n",
       "    .dataframe thead th {\n",
       "        text-align: right;\n",
       "    }\n",
       "</style>\n",
       "<table border=\"1\" class=\"dataframe\">\n",
       "  <thead>\n",
       "    <tr style=\"text-align: right;\">\n",
       "      <th></th>\n",
       "      <th>ID</th>\n",
       "      <th>kwh</th>\n",
       "      <th>date</th>\n",
       "      <th>source</th>\n",
       "    </tr>\n",
       "  </thead>\n",
       "  <tbody>\n",
       "    <tr>\n",
       "      <th>0</th>\n",
       "      <td>2024-09-24_consumer_device_12_data_user_1</td>\n",
       "      <td>0</td>\n",
       "      <td>2024-09-24</td>\n",
       "      <td>consumer_device_12_data_user_1</td>\n",
       "    </tr>\n",
       "    <tr>\n",
       "      <th>1</th>\n",
       "      <td>2024-09-25_consumer_device_12_data_user_1</td>\n",
       "      <td>0</td>\n",
       "      <td>2024-09-25</td>\n",
       "      <td>consumer_device_12_data_user_1</td>\n",
       "    </tr>\n",
       "    <tr>\n",
       "      <th>2</th>\n",
       "      <td>2024-09-26_consumer_device_12_data_user_1</td>\n",
       "      <td>0</td>\n",
       "      <td>2024-09-26</td>\n",
       "      <td>consumer_device_12_data_user_1</td>\n",
       "    </tr>\n",
       "    <tr>\n",
       "      <th>3</th>\n",
       "      <td>2024-09-27_consumer_device_12_data_user_1</td>\n",
       "      <td>0</td>\n",
       "      <td>2024-09-27</td>\n",
       "      <td>consumer_device_12_data_user_1</td>\n",
       "    </tr>\n",
       "    <tr>\n",
       "      <th>4</th>\n",
       "      <td>2024-09-28_consumer_device_12_data_user_1</td>\n",
       "      <td>0</td>\n",
       "      <td>2024-09-28</td>\n",
       "      <td>consumer_device_12_data_user_1</td>\n",
       "    </tr>\n",
       "  </tbody>\n",
       "</table>\n",
       "</div>"
      ],
      "text/plain": [
       "                                          ID  kwh       date  \\\n",
       "0  2024-09-24_consumer_device_12_data_user_1    0 2024-09-24   \n",
       "1  2024-09-25_consumer_device_12_data_user_1    0 2024-09-25   \n",
       "2  2024-09-26_consumer_device_12_data_user_1    0 2024-09-26   \n",
       "3  2024-09-27_consumer_device_12_data_user_1    0 2024-09-27   \n",
       "4  2024-09-28_consumer_device_12_data_user_1    0 2024-09-28   \n",
       "\n",
       "                           source  \n",
       "0  consumer_device_12_data_user_1  \n",
       "1  consumer_device_12_data_user_1  \n",
       "2  consumer_device_12_data_user_1  \n",
       "3  consumer_device_12_data_user_1  \n",
       "4  consumer_device_12_data_user_1  "
      ]
     },
     "execution_count": 14,
     "metadata": {},
     "output_type": "execute_result"
    }
   ],
   "source": [
    "# I need the sample submission file to produce an 'accurate score' i.e. how well am I doing on the series that my model will\n",
    "# actually be validated on\n",
    "ss_df = pd.read_csv(\"./data/SampleSubmission.csv\")\n",
    "ss_df[[\"date\", \"source\"]] = ss_df[\"ID\"].str.split(\"_\", expand=True, n=1)\n",
    "\n",
    "ss_df[\"date\"] = pd.to_datetime(ss_df[\"date\"])\n",
    "\n",
    "ss_df.head()"
   ]
  },
  {
   "cell_type": "code",
   "execution_count": 15,
   "id": "3ed99f32",
   "metadata": {},
   "outputs": [],
   "source": [
    "def score_model(model, ts_dict, ss_df, future_covs=None, forecast_horizon=31, scaled=False):\n",
    "    \"\"\"A utility function to score a model based on the data in the submission set\"\"\"\n",
    "\n",
    "    rmse_scores = []\n",
    "\n",
    "    series_to_forecast = set(ts_dict.keys()).intersection(set(ss_df[\"source\"].unique()))\n",
    "\n",
    "    for index, series_name in enumerate(series_to_forecast):\n",
    "\n",
    "        predictions = model.predict(forecast_horizon, series=ts_dict[series_name][\"train_scaled_ts\"], future_covariates=future_covs[index], show_warnings=False)\n",
    "\n",
    "        if scaled:\n",
    "            predictions = ts_dict[series_name][\"train_scaler\"].inverse_transform(predictions)\n",
    "        \n",
    "        rmse_scores.append(rmse(ts_dict[series_name][\"test_ts\"], predictions))\n",
    "    \n",
    "    return np.mean(rmse_scores)"
   ]
  },
  {
   "cell_type": "code",
   "execution_count": 16,
   "id": "f10d7378",
   "metadata": {},
   "outputs": [],
   "source": [
    "def create_predictions(model, ts_dict, ss_df, future_covs, forecast_horizon=31, scaled=False):\n",
    "    \"\"\"A utility function which can easily create a submission based on the sample submission file\"\"\"\n",
    "\n",
    "    predictions_df = pd.DataFrame()\n",
    "\n",
    "    series_to_forecast = set(ts_dict.keys()).intersection(set(ss_df[\"source\"].unique()))\n",
    "\n",
    "    for index, series_name in enumerate(series_to_forecast):\n",
    "\n",
    "        predictions = model.predict(forecast_horizon, series=ts_dict[series_name][\"scaled_ts\"], future_covariates=future_covs[index])\n",
    "\n",
    "        if scaled:\n",
    "            predictions = ts_dict[series_name][\"scaler\"].inverse_transform(predictions)\n",
    "\n",
    "        pred_df = predictions.to_dataframe()\n",
    "        pred_df[\"source\"] = series_name\n",
    "\n",
    "        predictions_df = pd.concat([predictions_df, pred_df])\n",
    "\n",
    "\n",
    "        predictions_df.sort_values(by=[\"source\", \"date\"], inplace=True)\n",
    "\n",
    "        predictions_df[\"ID\"] = predictions_df.index.astype(str) + \"_\" + predictions_df[\"source\"]\n",
    "\n",
    "    return predictions_df"
   ]
  },
  {
   "cell_type": "code",
   "execution_count": 17,
   "id": "2d8dc325",
   "metadata": {},
   "outputs": [],
   "source": [
    "model_kwargs = {\n",
    "    \"lags\": [-1],\n",
    "    \"output_chunk_length\": 9,\n",
    "    \"lags_future_covariates\": [-30],\n",
    "    \"use_static_covariates\": False,\n",
    "    \"random_state\": 42\n",
    "}"
   ]
  },
  {
   "cell_type": "code",
   "execution_count": 18,
   "id": "5b0c27de",
   "metadata": {},
   "outputs": [
    {
     "data": {
      "text/plain": [
       "LinearRegressionModel(lags=[-1], lags_past_covariates=None, lags_future_covariates=[-30], output_chunk_length=9, output_chunk_shift=0, add_encoders=None, likelihood=None, quantiles=None, random_state=42, multi_models=True, use_static_covariates=False)"
      ]
     },
     "execution_count": 18,
     "metadata": {},
     "output_type": "execute_result"
    }
   ],
   "source": [
    "## Setting up my model\n",
    "linear_model = LinearRegressionModel(\n",
    "    **model_kwargs\n",
    ")\n",
    "\n",
    "future_covs = [scaled_features_ts[['precip_snow_ratio']] for _ in range(len(train_ts_list))]\n",
    "\n",
    "linear_model.fit(train_ts_list, future_covariates=future_covs)"
   ]
  },
  {
   "cell_type": "code",
   "execution_count": 19,
   "id": "f6a78747",
   "metadata": {},
   "outputs": [
    {
     "data": {
      "text/plain": [
       "4.9103200288377105"
      ]
     },
     "execution_count": 19,
     "metadata": {},
     "output_type": "execute_result"
    }
   ],
   "source": [
    "score_model(linear_model, ts_dict, ss_df, future_covs, scaled=True)"
   ]
  },
  {
   "cell_type": "code",
   "execution_count": 20,
   "id": "133d971d",
   "metadata": {},
   "outputs": [
    {
     "data": {
      "text/plain": [
       "LinearRegressionModel(lags=[-1], lags_past_covariates=None, lags_future_covariates=[-30], output_chunk_length=9, output_chunk_shift=0, add_encoders=None, likelihood=None, quantiles=None, random_state=42, multi_models=True, use_static_covariates=False)"
      ]
     },
     "execution_count": 20,
     "metadata": {},
     "output_type": "execute_result"
    }
   ],
   "source": [
    "## Full model - now we can use all the data available to us to make the best model possible\n",
    "full_model = LinearRegressionModel(\n",
    "    **model_kwargs\n",
    ")\n",
    "\n",
    "future_covs = [scaled_features_ts[['precip_snow_ratio']] for _ in range(len(ts_list))]\n",
    "\n",
    "full_model.fit(ts_list, future_covariates=future_covs)"
   ]
  },
  {
   "cell_type": "code",
   "execution_count": 21,
   "id": "f240cfa6",
   "metadata": {},
   "outputs": [
    {
     "data": {
      "application/vnd.microsoft.datawrangler.viewer.v0+json": {
       "columns": [
        {
         "name": "date",
         "rawType": "datetime64[ns]",
         "type": "datetime"
        },
        {
         "name": "kwh",
         "rawType": "float64",
         "type": "float"
        },
        {
         "name": "source",
         "rawType": "object",
         "type": "string"
        },
        {
         "name": "ID",
         "rawType": "object",
         "type": "string"
        }
       ],
       "conversionMethod": "pd.DataFrame",
       "ref": "f8eaf070-48a0-4c7b-bbbc-23ccbba27117",
       "rows": [
        [
         "2024-09-24 00:00:00",
         "0.16582015878207537",
         "consumer_device_12_data_user_1",
         "2024-09-24_consumer_device_12_data_user_1"
        ],
        [
         "2024-09-25 00:00:00",
         "0.15655241738757572",
         "consumer_device_12_data_user_1",
         "2024-09-25_consumer_device_12_data_user_1"
        ],
        [
         "2024-09-26 00:00:00",
         "0.15004563715160546",
         "consumer_device_12_data_user_1",
         "2024-09-26_consumer_device_12_data_user_1"
        ],
        [
         "2024-09-27 00:00:00",
         "0.1476734929749723",
         "consumer_device_12_data_user_1",
         "2024-09-27_consumer_device_12_data_user_1"
        ],
        [
         "2024-09-28 00:00:00",
         "0.1467108709821558",
         "consumer_device_12_data_user_1",
         "2024-09-28_consumer_device_12_data_user_1"
        ]
       ],
       "shape": {
        "columns": 3,
        "rows": 5
       }
      },
      "text/html": [
       "<div>\n",
       "<style scoped>\n",
       "    .dataframe tbody tr th:only-of-type {\n",
       "        vertical-align: middle;\n",
       "    }\n",
       "\n",
       "    .dataframe tbody tr th {\n",
       "        vertical-align: top;\n",
       "    }\n",
       "\n",
       "    .dataframe thead th {\n",
       "        text-align: right;\n",
       "    }\n",
       "</style>\n",
       "<table border=\"1\" class=\"dataframe\">\n",
       "  <thead>\n",
       "    <tr style=\"text-align: right;\">\n",
       "      <th>component</th>\n",
       "      <th>kwh</th>\n",
       "      <th>source</th>\n",
       "      <th>ID</th>\n",
       "    </tr>\n",
       "    <tr>\n",
       "      <th>date</th>\n",
       "      <th></th>\n",
       "      <th></th>\n",
       "      <th></th>\n",
       "    </tr>\n",
       "  </thead>\n",
       "  <tbody>\n",
       "    <tr>\n",
       "      <th>2024-09-24</th>\n",
       "      <td>0.165820</td>\n",
       "      <td>consumer_device_12_data_user_1</td>\n",
       "      <td>2024-09-24_consumer_device_12_data_user_1</td>\n",
       "    </tr>\n",
       "    <tr>\n",
       "      <th>2024-09-25</th>\n",
       "      <td>0.156552</td>\n",
       "      <td>consumer_device_12_data_user_1</td>\n",
       "      <td>2024-09-25_consumer_device_12_data_user_1</td>\n",
       "    </tr>\n",
       "    <tr>\n",
       "      <th>2024-09-26</th>\n",
       "      <td>0.150046</td>\n",
       "      <td>consumer_device_12_data_user_1</td>\n",
       "      <td>2024-09-26_consumer_device_12_data_user_1</td>\n",
       "    </tr>\n",
       "    <tr>\n",
       "      <th>2024-09-27</th>\n",
       "      <td>0.147673</td>\n",
       "      <td>consumer_device_12_data_user_1</td>\n",
       "      <td>2024-09-27_consumer_device_12_data_user_1</td>\n",
       "    </tr>\n",
       "    <tr>\n",
       "      <th>2024-09-28</th>\n",
       "      <td>0.146711</td>\n",
       "      <td>consumer_device_12_data_user_1</td>\n",
       "      <td>2024-09-28_consumer_device_12_data_user_1</td>\n",
       "    </tr>\n",
       "  </tbody>\n",
       "</table>\n",
       "</div>"
      ],
      "text/plain": [
       "component        kwh                          source  \\\n",
       "date                                                   \n",
       "2024-09-24  0.165820  consumer_device_12_data_user_1   \n",
       "2024-09-25  0.156552  consumer_device_12_data_user_1   \n",
       "2024-09-26  0.150046  consumer_device_12_data_user_1   \n",
       "2024-09-27  0.147673  consumer_device_12_data_user_1   \n",
       "2024-09-28  0.146711  consumer_device_12_data_user_1   \n",
       "\n",
       "component                                          ID  \n",
       "date                                                   \n",
       "2024-09-24  2024-09-24_consumer_device_12_data_user_1  \n",
       "2024-09-25  2024-09-25_consumer_device_12_data_user_1  \n",
       "2024-09-26  2024-09-26_consumer_device_12_data_user_1  \n",
       "2024-09-27  2024-09-27_consumer_device_12_data_user_1  \n",
       "2024-09-28  2024-09-28_consumer_device_12_data_user_1  "
      ]
     },
     "execution_count": 21,
     "metadata": {},
     "output_type": "execute_result"
    }
   ],
   "source": [
    "forecast_df = create_predictions(full_model, ts_dict, ss_df, future_covs, scaled=True)\n",
    "\n",
    "forecast_df.head()"
   ]
  },
  {
   "cell_type": "code",
   "execution_count": 22,
   "id": "8c839b83",
   "metadata": {},
   "outputs": [],
   "source": [
    "forecast_df[[\"ID\",\"kwh\"]].to_csv(\"./submissions/my_forecast.csv\", index=False)"
   ]
  },
  {
   "cell_type": "code",
   "execution_count": 1,
   "id": "ee3d675b",
   "metadata": {},
   "outputs": [
    {
     "ename": "NameError",
     "evalue": "name 'con' is not defined",
     "output_type": "error",
     "traceback": [
      "\u001b[1;31m---------------------------------------------------------------------------\u001b[0m",
      "\u001b[1;31mNameError\u001b[0m                                 Traceback (most recent call last)",
      "Cell \u001b[1;32mIn[1], line 1\u001b[0m\n\u001b[1;32m----> 1\u001b[0m \u001b[43mcon\u001b[49m\u001b[38;5;241m.\u001b[39mclose()\n",
      "\u001b[1;31mNameError\u001b[0m: name 'con' is not defined"
     ]
    }
   ],
   "source": [
    "con.close()"
   ]
  },
  {
   "cell_type": "markdown",
   "id": "2f6e1f39",
   "metadata": {},
   "source": [
    "# But Wait, How Did You Get Those Parameters?\n",
    "\n",
    "To find the optimal parameters for my LinearRegressor I leveraged `optuna` to test many variants of parameter combinations. Then tried using the top X results for submissions on Zindi to find the best validation score I could."
   ]
  },
  {
   "cell_type": "code",
   "execution_count": 28,
   "id": "f98291c1",
   "metadata": {},
   "outputs": [],
   "source": [
    "def covariate_objective(trial: optuna.Trial):\n",
    "    lags = trial.suggest_categorical(\"lags\", [[-1], [-1, -7], [-1, -14]])\n",
    "    output_chunk_length = trial.suggest_int(\"output_chunk_length\", 5, 20)\n",
    "    future_cov_lags = trial.suggest_categorical(\"future_cov_lags\", [[0], [-30], [-60], [-90]])\n",
    "\n",
    "    future_cov_options = [\n",
    "        [\"avg_temperature\"],\n",
    "        [\"avg_dewpoint_temperature\"],\n",
    "        [\"wind_speed\"],\n",
    "        [\"precip_snow_ratio\"],\n",
    "        [\"dayofyear\"],\n",
    "        [\"avg_temperature\", \"avg_dewpoint_temperature\", \"wind_speed\", \"precip_snow_ratio\", \"dayofyear\"],\n",
    "    ]\n",
    "    selected_covariates = trial.suggest_categorical(\"future_covs\", future_cov_options)\n",
    "    \n",
    "    future_covs = [scaled_features_ts[selected_covariates]] * len(train_ts_list)\n",
    "\n",
    "    # Create and fit model\n",
    "    linear_model = LinearRegressionModel(\n",
    "        lags=lags,\n",
    "        output_chunk_length=output_chunk_length,\n",
    "        use_static_covariates=False, ## In my original code I tried out using the consumer devices and users as static covs\n",
    "        lags_future_covariates=future_cov_lags,\n",
    "        random_state=42,\n",
    "    )\n",
    "\n",
    "    linear_model.fit(train_ts_list, future_covariates=future_covs)\n",
    "\n",
    "    mean_rmse = score_model(linear_model, ts_dict, ss_df, future_covs=future_covs, scaled=True)\n",
    "\n",
    "    return mean_rmse\n"
   ]
  },
  {
   "cell_type": "code",
   "execution_count": null,
   "id": "9f1c2589",
   "metadata": {},
   "outputs": [
    {
     "name": "stderr",
     "output_type": "stream",
     "text": [
      "[I 2025-05-06 16:40:06,485] A new study created in memory with name: no-name-3c45c0b2-b7bb-4375-9301-75851d0d6466\n"
     ]
    },
    {
     "data": {
      "application/vnd.jupyter.widget-view+json": {
       "model_id": "ceefe9aa54ab42bb9eb56f106a8cbc98",
       "version_major": 2,
       "version_minor": 0
      },
      "text/plain": [
       "  0%|          | 0/100 [00:00<?, ?it/s]"
      ]
     },
     "metadata": {},
     "output_type": "display_data"
    },
    {
     "name": "stdout",
     "output_type": "stream",
     "text": [
      "[I 2025-05-06 16:40:18,308] Trial 6 finished with value: 4.935954432418053 and parameters: {'lags': [-1, -14], 'output_chunk_length': 20, 'future_cov_lags': [-30], 'future_covs': ['dayofyear']}. Best is trial 6 with value: 4.935954432418053.\n",
      "[I 2025-05-06 16:40:20,957] Trial 4 finished with value: 4.8136214727320645 and parameters: {'lags': [-1, -7], 'output_chunk_length': 5, 'future_cov_lags': [-30], 'future_covs': ['avg_dewpoint_temperature']}. Best is trial 4 with value: 4.8136214727320645.\n",
      "[I 2025-05-06 16:40:21,048] Trial 2 finished with value: 4.9216817961487225 and parameters: {'lags': [-1], 'output_chunk_length': 15, 'future_cov_lags': [-60], 'future_covs': ['wind_speed']}. Best is trial 4 with value: 4.8136214727320645.\n",
      "[I 2025-05-06 16:40:21,441] Trial 3 finished with value: 5.044625158549405 and parameters: {'lags': [-1, -7], 'output_chunk_length': 20, 'future_cov_lags': [-30], 'future_covs': ['avg_dewpoint_temperature']}. Best is trial 4 with value: 4.8136214727320645.\n",
      "[I 2025-05-06 16:40:21,836] Trial 7 finished with value: 4.879308216323172 and parameters: {'lags': [-1, -7], 'output_chunk_length': 7, 'future_cov_lags': [-30], 'future_covs': ['avg_temperature']}. Best is trial 4 with value: 4.8136214727320645.\n",
      "[I 2025-05-06 16:40:22,971] Trial 5 finished with value: 4.905152526706974 and parameters: {'lags': [-1, -7], 'output_chunk_length': 10, 'future_cov_lags': [-90], 'future_covs': ['avg_temperature']}. Best is trial 4 with value: 4.8136214727320645.\n",
      "[I 2025-05-06 16:40:27,642] Trial 0 finished with value: 4.882464938654634 and parameters: {'lags': [-1, -14], 'output_chunk_length': 12, 'future_cov_lags': [-90], 'future_covs': ['avg_temperature']}. Best is trial 4 with value: 4.8136214727320645.\n",
      "[I 2025-05-06 16:40:29,456] Trial 8 finished with value: 5.1490408361024524 and parameters: {'lags': [-1, -7], 'output_chunk_length': 12, 'future_cov_lags': [0], 'future_covs': ['avg_temperature', 'avg_dewpoint_temperature', 'wind_speed', 'precip_snow_ratio', 'dayofyear']}. Best is trial 4 with value: 4.8136214727320645.\n",
      "[I 2025-05-06 16:40:30,186] Trial 1 finished with value: 4.923753336300169 and parameters: {'lags': [-1, -7], 'output_chunk_length': 12, 'future_cov_lags': [-30], 'future_covs': ['avg_temperature']}. Best is trial 4 with value: 4.8136214727320645.\n",
      "[I 2025-05-06 16:40:33,271] Trial 12 finished with value: 4.9186317624544404 and parameters: {'lags': [-1, -14], 'output_chunk_length': 13, 'future_cov_lags': [-90], 'future_covs': ['avg_temperature']}. Best is trial 4 with value: 4.8136214727320645.\n",
      "[I 2025-05-06 16:40:36,112] Trial 13 finished with value: 5.001559208587391 and parameters: {'lags': [-1], 'output_chunk_length': 9, 'future_cov_lags': [0], 'future_covs': ['precip_snow_ratio']}. Best is trial 4 with value: 4.8136214727320645.\n",
      "[I 2025-05-06 16:40:36,634] Trial 11 finished with value: 4.942349767839983 and parameters: {'lags': [-1, -14], 'output_chunk_length': 20, 'future_cov_lags': [-60], 'future_covs': ['precip_snow_ratio']}. Best is trial 4 with value: 4.8136214727320645.\n",
      "[I 2025-05-06 16:40:40,865] Trial 9 finished with value: 195.73178224477613 and parameters: {'lags': [-1, -14], 'output_chunk_length': 10, 'future_cov_lags': [-90], 'future_covs': ['avg_temperature', 'avg_dewpoint_temperature', 'wind_speed', 'precip_snow_ratio', 'dayofyear']}. Best is trial 4 with value: 4.8136214727320645.\n",
      "[I 2025-05-06 16:40:41,279] Trial 10 finished with value: 4.6570241801109145 and parameters: {'lags': [-1, -7], 'output_chunk_length': 8, 'future_cov_lags': [-60], 'future_covs': ['avg_temperature', 'avg_dewpoint_temperature', 'wind_speed', 'precip_snow_ratio', 'dayofyear']}. Best is trial 10 with value: 4.6570241801109145.\n",
      "[I 2025-05-06 16:40:44,608] Trial 14 finished with value: 5.064048736208946 and parameters: {'lags': [-1], 'output_chunk_length': 9, 'future_cov_lags': [0], 'future_covs': ['avg_dewpoint_temperature']}. Best is trial 10 with value: 4.6570241801109145.\n",
      "[I 2025-05-06 16:40:45,057] Trial 16 finished with value: 4.862070907358128 and parameters: {'lags': [-1], 'output_chunk_length': 10, 'future_cov_lags': [-60], 'future_covs': ['precip_snow_ratio']}. Best is trial 10 with value: 4.6570241801109145.\n",
      "[I 2025-05-06 16:40:45,803] Trial 15 finished with value: 148.77831783121906 and parameters: {'lags': [-1, -14], 'output_chunk_length': 15, 'future_cov_lags': [-90], 'future_covs': ['avg_temperature', 'avg_dewpoint_temperature', 'wind_speed', 'precip_snow_ratio', 'dayofyear']}. Best is trial 10 with value: 4.6570241801109145.\n",
      "[I 2025-05-06 16:40:50,788] Trial 17 finished with value: 4.719921257231162 and parameters: {'lags': [-1], 'output_chunk_length': 5, 'future_cov_lags': [-60], 'future_covs': ['avg_dewpoint_temperature']}. Best is trial 10 with value: 4.6570241801109145.\n",
      "[I 2025-05-06 16:40:52,079] Trial 19 finished with value: 4.8136214727320645 and parameters: {'lags': [-1, -7], 'output_chunk_length': 5, 'future_cov_lags': [-30], 'future_covs': ['avg_dewpoint_temperature']}. Best is trial 10 with value: 4.6570241801109145.\n",
      "[I 2025-05-06 16:40:53,228] Trial 18 finished with value: 4.8136214727320645 and parameters: {'lags': [-1, -7], 'output_chunk_length': 5, 'future_cov_lags': [-30], 'future_covs': ['avg_dewpoint_temperature']}. Best is trial 10 with value: 4.6570241801109145.\n",
      "[I 2025-05-06 16:40:58,921] Trial 20 finished with value: 4.8136214727320645 and parameters: {'lags': [-1, -7], 'output_chunk_length': 5, 'future_cov_lags': [-30], 'future_covs': ['avg_dewpoint_temperature']}. Best is trial 10 with value: 4.6570241801109145.\n",
      "[I 2025-05-06 16:40:59,128] Trial 21 finished with value: 4.779931634205872 and parameters: {'lags': [-1, -7], 'output_chunk_length': 5, 'future_cov_lags': [-60], 'future_covs': ['avg_dewpoint_temperature']}. Best is trial 10 with value: 4.6570241801109145.\n",
      "[I 2025-05-06 16:41:01,189] Trial 24 finished with value: 4.775829597361286 and parameters: {'lags': [-1, -7], 'output_chunk_length': 6, 'future_cov_lags': [-60], 'future_covs': ['avg_dewpoint_temperature']}. Best is trial 10 with value: 4.6570241801109145.\n",
      "[I 2025-05-06 16:41:02,437] Trial 23 finished with value: 4.779931634205872 and parameters: {'lags': [-1, -7], 'output_chunk_length': 5, 'future_cov_lags': [-60], 'future_covs': ['avg_dewpoint_temperature']}. Best is trial 10 with value: 4.6570241801109145.\n",
      "[I 2025-05-06 16:41:03,542] Trial 26 finished with value: 4.922430830530224 and parameters: {'lags': [-1], 'output_chunk_length': 7, 'future_cov_lags': [-60], 'future_covs': ['wind_speed']}. Best is trial 10 with value: 4.6570241801109145.\n",
      "[I 2025-05-06 16:41:05,385] Trial 22 finished with value: 4.779931634205872 and parameters: {'lags': [-1, -7], 'output_chunk_length': 5, 'future_cov_lags': [-60], 'future_covs': ['avg_dewpoint_temperature']}. Best is trial 10 with value: 4.6570241801109145.\n",
      "[I 2025-05-06 16:41:05,658] Trial 25 finished with value: 4.665426789039251 and parameters: {'lags': [-1], 'output_chunk_length': 5, 'future_cov_lags': [-60], 'future_covs': ['dayofyear']}. Best is trial 10 with value: 4.6570241801109145.\n",
      "[I 2025-05-06 16:41:06,181] Trial 27 finished with value: 4.659444899944128 and parameters: {'lags': [-1], 'output_chunk_length': 8, 'future_cov_lags': [-60], 'future_covs': ['dayofyear']}. Best is trial 10 with value: 4.6570241801109145.\n",
      "[I 2025-05-06 16:41:13,071] Trial 29 finished with value: 4.674441472164044 and parameters: {'lags': [-1], 'output_chunk_length': 7, 'future_cov_lags': [-60], 'future_covs': ['dayofyear']}. Best is trial 10 with value: 4.6570241801109145.\n",
      "[I 2025-05-06 16:41:15,519] Trial 30 finished with value: 4.922430830530224 and parameters: {'lags': [-1], 'output_chunk_length': 7, 'future_cov_lags': [-60], 'future_covs': ['wind_speed']}. Best is trial 10 with value: 4.6570241801109145.\n",
      "[I 2025-05-06 16:41:16,521] Trial 28 finished with value: 4.674441472164044 and parameters: {'lags': [-1], 'output_chunk_length': 7, 'future_cov_lags': [-60], 'future_covs': ['dayofyear']}. Best is trial 10 with value: 4.6570241801109145.\n",
      "[I 2025-05-06 16:41:18,911] Trial 34 finished with value: 4.659444899944128 and parameters: {'lags': [-1], 'output_chunk_length': 8, 'future_cov_lags': [-60], 'future_covs': ['dayofyear']}. Best is trial 10 with value: 4.6570241801109145.\n",
      "[I 2025-05-06 16:41:20,625] Trial 32 finished with value: 4.536534176634984 and parameters: {'lags': [-1], 'output_chunk_length': 7, 'future_cov_lags': [-60], 'future_covs': ['avg_temperature', 'avg_dewpoint_temperature', 'wind_speed', 'precip_snow_ratio', 'dayofyear']}. Best is trial 32 with value: 4.536534176634984.\n",
      "[I 2025-05-06 16:41:22,241] Trial 35 finished with value: 4.659444899944128 and parameters: {'lags': [-1], 'output_chunk_length': 8, 'future_cov_lags': [-60], 'future_covs': ['dayofyear']}. Best is trial 32 with value: 4.536534176634984.\n",
      "[I 2025-05-06 16:41:25,444] Trial 31 finished with value: 4.674441472164044 and parameters: {'lags': [-1], 'output_chunk_length': 7, 'future_cov_lags': [-60], 'future_covs': ['dayofyear']}. Best is trial 32 with value: 4.536534176634984.\n",
      "[I 2025-05-06 16:41:26,907] Trial 39 finished with value: 4.653901390387932 and parameters: {'lags': [-1], 'output_chunk_length': 9, 'future_cov_lags': [-60], 'future_covs': ['dayofyear']}. Best is trial 32 with value: 4.536534176634984.\n",
      "[I 2025-05-06 16:41:27,900] Trial 33 finished with value: 4.674441472164044 and parameters: {'lags': [-1], 'output_chunk_length': 7, 'future_cov_lags': [-60], 'future_covs': ['dayofyear']}. Best is trial 32 with value: 4.536534176634984.\n",
      "[I 2025-05-06 16:41:29,849] Trial 38 finished with value: 4.659444899944128 and parameters: {'lags': [-1], 'output_chunk_length': 8, 'future_cov_lags': [-60], 'future_covs': ['dayofyear']}. Best is trial 32 with value: 4.536534176634984.\n",
      "[I 2025-05-06 16:41:30,846] Trial 36 finished with value: 4.659444899944128 and parameters: {'lags': [-1], 'output_chunk_length': 8, 'future_cov_lags': [-60], 'future_covs': ['dayofyear']}. Best is trial 32 with value: 4.536534176634984.\n",
      "[I 2025-05-06 16:41:37,056] Trial 40 finished with value: 4.568786352322842 and parameters: {'lags': [-1], 'output_chunk_length': 9, 'future_cov_lags': [-60], 'future_covs': ['avg_temperature', 'avg_dewpoint_temperature', 'wind_speed', 'precip_snow_ratio', 'dayofyear']}. Best is trial 32 with value: 4.536534176634984.\n",
      "[I 2025-05-06 16:41:38,504] Trial 41 finished with value: 4.568786352322842 and parameters: {'lags': [-1], 'output_chunk_length': 9, 'future_cov_lags': [-60], 'future_covs': ['avg_temperature', 'avg_dewpoint_temperature', 'wind_speed', 'precip_snow_ratio', 'dayofyear']}. Best is trial 32 with value: 4.536534176634984.\n",
      "[I 2025-05-06 16:41:38,901] Trial 37 finished with value: 4.659444899944128 and parameters: {'lags': [-1], 'output_chunk_length': 8, 'future_cov_lags': [-60], 'future_covs': ['dayofyear']}. Best is trial 32 with value: 4.536534176634984.\n",
      "[I 2025-05-06 16:41:39,581] Trial 43 finished with value: 4.601037076496479 and parameters: {'lags': [-1], 'output_chunk_length': 11, 'future_cov_lags': [-60], 'future_covs': ['avg_temperature', 'avg_dewpoint_temperature', 'wind_speed', 'precip_snow_ratio', 'dayofyear']}. Best is trial 32 with value: 4.536534176634984.\n",
      "[I 2025-05-06 16:41:41,877] Trial 45 finished with value: 4.534720776056472 and parameters: {'lags': [-1], 'output_chunk_length': 11, 'future_cov_lags': [0], 'future_covs': ['avg_temperature', 'avg_dewpoint_temperature', 'wind_speed', 'precip_snow_ratio', 'dayofyear']}. Best is trial 45 with value: 4.534720776056472.\n",
      "[I 2025-05-06 16:41:43,428] Trial 44 finished with value: 4.534720776056472 and parameters: {'lags': [-1], 'output_chunk_length': 11, 'future_cov_lags': [0], 'future_covs': ['avg_temperature', 'avg_dewpoint_temperature', 'wind_speed', 'precip_snow_ratio', 'dayofyear']}. Best is trial 45 with value: 4.534720776056472.\n",
      "[I 2025-05-06 16:41:45,452] Trial 42 finished with value: 4.568786352322842 and parameters: {'lags': [-1], 'output_chunk_length': 9, 'future_cov_lags': [-60], 'future_covs': ['avg_temperature', 'avg_dewpoint_temperature', 'wind_speed', 'precip_snow_ratio', 'dayofyear']}. Best is trial 45 with value: 4.534720776056472.\n",
      "[I 2025-05-06 16:41:48,256] Trial 46 finished with value: 4.534720776056472 and parameters: {'lags': [-1], 'output_chunk_length': 11, 'future_cov_lags': [0], 'future_covs': ['avg_temperature', 'avg_dewpoint_temperature', 'wind_speed', 'precip_snow_ratio', 'dayofyear']}. Best is trial 45 with value: 4.534720776056472.\n",
      "[I 2025-05-06 16:41:50,551] Trial 50 finished with value: 4.534720776056472 and parameters: {'lags': [-1], 'output_chunk_length': 11, 'future_cov_lags': [0], 'future_covs': ['avg_temperature', 'avg_dewpoint_temperature', 'wind_speed', 'precip_snow_ratio', 'dayofyear']}. Best is trial 45 with value: 4.534720776056472.\n",
      "[I 2025-05-06 16:41:52,284] Trial 49 finished with value: 4.534720776056472 and parameters: {'lags': [-1], 'output_chunk_length': 11, 'future_cov_lags': [0], 'future_covs': ['avg_temperature', 'avg_dewpoint_temperature', 'wind_speed', 'precip_snow_ratio', 'dayofyear']}. Best is trial 45 with value: 4.534720776056472.\n",
      "[I 2025-05-06 16:41:52,921] Trial 47 finished with value: 4.534050208679236 and parameters: {'lags': [-1], 'output_chunk_length': 10, 'future_cov_lags': [0], 'future_covs': ['avg_temperature', 'avg_dewpoint_temperature', 'wind_speed', 'precip_snow_ratio', 'dayofyear']}. Best is trial 47 with value: 4.534050208679236.\n",
      "[I 2025-05-06 16:41:54,185] Trial 48 finished with value: 4.534720776056472 and parameters: {'lags': [-1], 'output_chunk_length': 11, 'future_cov_lags': [0], 'future_covs': ['avg_temperature', 'avg_dewpoint_temperature', 'wind_speed', 'precip_snow_ratio', 'dayofyear']}. Best is trial 47 with value: 4.534050208679236.\n",
      "[I 2025-05-06 16:41:58,528] Trial 52 finished with value: 4.554480911849125 and parameters: {'lags': [-1], 'output_chunk_length': 13, 'future_cov_lags': [0], 'future_covs': ['avg_temperature', 'avg_dewpoint_temperature', 'wind_speed', 'precip_snow_ratio', 'dayofyear']}. Best is trial 47 with value: 4.534050208679236.\n",
      "[I 2025-05-06 16:42:00,253] Trial 53 finished with value: 4.554480911849125 and parameters: {'lags': [-1], 'output_chunk_length': 13, 'future_cov_lags': [0], 'future_covs': ['avg_temperature', 'avg_dewpoint_temperature', 'wind_speed', 'precip_snow_ratio', 'dayofyear']}. Best is trial 47 with value: 4.534050208679236.\n",
      "[I 2025-05-06 16:42:01,924] Trial 51 finished with value: 4.534720776056472 and parameters: {'lags': [-1], 'output_chunk_length': 11, 'future_cov_lags': [0], 'future_covs': ['avg_temperature', 'avg_dewpoint_temperature', 'wind_speed', 'precip_snow_ratio', 'dayofyear']}. Best is trial 47 with value: 4.534050208679236.\n",
      "[I 2025-05-06 16:42:03,104] Trial 54 finished with value: 4.554480911849125 and parameters: {'lags': [-1], 'output_chunk_length': 13, 'future_cov_lags': [0], 'future_covs': ['avg_temperature', 'avg_dewpoint_temperature', 'wind_speed', 'precip_snow_ratio', 'dayofyear']}. Best is trial 47 with value: 4.534050208679236.\n",
      "[I 2025-05-06 16:42:05,518] Trial 55 finished with value: 5.105082286960201 and parameters: {'lags': [-1, -14], 'output_chunk_length': 13, 'future_cov_lags': [0], 'future_covs': ['avg_temperature', 'avg_dewpoint_temperature', 'wind_speed', 'precip_snow_ratio', 'dayofyear']}. Best is trial 47 with value: 4.534050208679236.\n",
      "[I 2025-05-06 16:42:07,268] Trial 57 finished with value: 5.105082286960201 and parameters: {'lags': [-1, -14], 'output_chunk_length': 13, 'future_cov_lags': [0], 'future_covs': ['avg_temperature', 'avg_dewpoint_temperature', 'wind_speed', 'precip_snow_ratio', 'dayofyear']}. Best is trial 47 with value: 4.534050208679236.\n",
      "[I 2025-05-06 16:42:07,490] Trial 56 finished with value: 5.105082286960201 and parameters: {'lags': [-1, -14], 'output_chunk_length': 13, 'future_cov_lags': [0], 'future_covs': ['avg_temperature', 'avg_dewpoint_temperature', 'wind_speed', 'precip_snow_ratio', 'dayofyear']}. Best is trial 47 with value: 4.534050208679236.\n",
      "[I 2025-05-06 16:42:08,378] Trial 58 finished with value: 5.105082286960201 and parameters: {'lags': [-1, -14], 'output_chunk_length': 13, 'future_cov_lags': [0], 'future_covs': ['avg_temperature', 'avg_dewpoint_temperature', 'wind_speed', 'precip_snow_ratio', 'dayofyear']}. Best is trial 47 with value: 4.534050208679236.\n",
      "[I 2025-05-06 16:42:14,549] Trial 60 finished with value: 5.053862927280218 and parameters: {'lags': [-1, -14], 'output_chunk_length': 12, 'future_cov_lags': [0], 'future_covs': ['avg_temperature', 'avg_dewpoint_temperature', 'wind_speed', 'precip_snow_ratio', 'dayofyear']}. Best is trial 47 with value: 4.534050208679236.\n",
      "[I 2025-05-06 16:42:18,678] Trial 61 finished with value: 5.046793076775407 and parameters: {'lags': [-1, -14], 'output_chunk_length': 14, 'future_cov_lags': [0], 'future_covs': ['avg_temperature', 'avg_dewpoint_temperature', 'wind_speed', 'precip_snow_ratio', 'dayofyear']}. Best is trial 47 with value: 4.534050208679236.\n",
      "[I 2025-05-06 16:42:18,944] Trial 62 finished with value: 5.053862927280218 and parameters: {'lags': [-1, -14], 'output_chunk_length': 12, 'future_cov_lags': [0], 'future_covs': ['avg_temperature', 'avg_dewpoint_temperature', 'wind_speed', 'precip_snow_ratio', 'dayofyear']}. Best is trial 47 with value: 4.534050208679236.\n",
      "[I 2025-05-06 16:42:19,515] Trial 65 finished with value: 4.9104516797257105 and parameters: {'lags': [-1], 'output_chunk_length': 12, 'future_cov_lags': [0], 'future_covs': ['avg_temperature']}. Best is trial 47 with value: 4.534050208679236.\n",
      "[I 2025-05-06 16:42:20,066] Trial 59 finished with value: 5.053257824393255 and parameters: {'lags': [-1, -14], 'output_chunk_length': 11, 'future_cov_lags': [0], 'future_covs': ['avg_temperature', 'avg_dewpoint_temperature', 'wind_speed', 'precip_snow_ratio', 'dayofyear']}. Best is trial 47 with value: 4.534050208679236.\n",
      "[I 2025-05-06 16:42:22,035] Trial 66 finished with value: 4.9104516797257105 and parameters: {'lags': [-1], 'output_chunk_length': 12, 'future_cov_lags': [0], 'future_covs': ['avg_temperature']}. Best is trial 47 with value: 4.534050208679236.\n",
      "[I 2025-05-06 16:42:23,762] Trial 64 finished with value: 4.9104516797257105 and parameters: {'lags': [-1], 'output_chunk_length': 12, 'future_cov_lags': [0], 'future_covs': ['avg_temperature']}. Best is trial 47 with value: 4.534050208679236.\n",
      "[I 2025-05-06 16:42:27,317] Trial 63 finished with value: 4.837951561039129 and parameters: {'lags': [-1, -14], 'output_chunk_length': 12, 'future_cov_lags': [0], 'future_covs': ['avg_temperature']}. Best is trial 47 with value: 4.534050208679236.\n",
      "[I 2025-05-06 16:42:31,617] Trial 67 finished with value: 4.870058267457434 and parameters: {'lags': [-1], 'output_chunk_length': 14, 'future_cov_lags': [0], 'future_covs': ['avg_temperature']}. Best is trial 47 with value: 4.534050208679236.\n",
      "[I 2025-05-06 16:42:33,280] Trial 73 finished with value: 199.13814459607883 and parameters: {'lags': [-1], 'output_chunk_length': 10, 'future_cov_lags': [-90], 'future_covs': ['precip_snow_ratio']}. Best is trial 47 with value: 4.534050208679236.\n",
      "[I 2025-05-06 16:42:33,594] Trial 69 finished with value: 4.929323467970041 and parameters: {'lags': [-1], 'output_chunk_length': 11, 'future_cov_lags': [0], 'future_covs': ['avg_temperature']}. Best is trial 47 with value: 4.534050208679236.\n",
      "[I 2025-05-06 16:42:34,598] Trial 70 finished with value: 5.028379613763619 and parameters: {'lags': [-1], 'output_chunk_length': 11, 'future_cov_lags': [0], 'future_covs': ['precip_snow_ratio']}. Best is trial 47 with value: 4.534050208679236.\n",
      "[I 2025-05-06 16:42:35,265] Trial 71 finished with value: 5.017670531417887 and parameters: {'lags': [-1], 'output_chunk_length': 10, 'future_cov_lags': [0], 'future_covs': ['precip_snow_ratio']}. Best is trial 47 with value: 4.534050208679236.\n",
      "[I 2025-05-06 16:42:36,163] Trial 68 finished with value: 4.929323467970041 and parameters: {'lags': [-1], 'output_chunk_length': 11, 'future_cov_lags': [0], 'future_covs': ['avg_temperature']}. Best is trial 47 with value: 4.534050208679236.\n",
      "[I 2025-05-06 16:42:38,825] Trial 74 finished with value: 199.13814459607883 and parameters: {'lags': [-1], 'output_chunk_length': 10, 'future_cov_lags': [-90], 'future_covs': ['precip_snow_ratio']}. Best is trial 47 with value: 4.534050208679236.\n",
      "[I 2025-05-06 16:42:43,937] Trial 72 finished with value: 199.13814459607883 and parameters: {'lags': [-1], 'output_chunk_length': 10, 'future_cov_lags': [-90], 'future_covs': ['precip_snow_ratio']}. Best is trial 47 with value: 4.534050208679236.\n",
      "[I 2025-05-06 16:42:47,275] Trial 75 finished with value: 199.13814459607883 and parameters: {'lags': [-1], 'output_chunk_length': 10, 'future_cov_lags': [-90], 'future_covs': ['precip_snow_ratio']}. Best is trial 47 with value: 4.534050208679236.\n",
      "[I 2025-05-06 16:42:48,881] Trial 77 finished with value: 4.534050208679236 and parameters: {'lags': [-1], 'output_chunk_length': 10, 'future_cov_lags': [0], 'future_covs': ['avg_temperature', 'avg_dewpoint_temperature', 'wind_speed', 'precip_snow_ratio', 'dayofyear']}. Best is trial 47 with value: 4.534050208679236.\n",
      "[I 2025-05-06 16:42:49,001] Trial 81 finished with value: 4.534720776056472 and parameters: {'lags': [-1], 'output_chunk_length': 11, 'future_cov_lags': [0], 'future_covs': ['avg_temperature', 'avg_dewpoint_temperature', 'wind_speed', 'precip_snow_ratio', 'dayofyear']}. Best is trial 47 with value: 4.534050208679236.\n",
      "[I 2025-05-06 16:42:50,060] Trial 80 finished with value: 4.650259821200646 and parameters: {'lags': [-1], 'output_chunk_length': 18, 'future_cov_lags': [0], 'future_covs': ['avg_temperature', 'avg_dewpoint_temperature', 'wind_speed', 'precip_snow_ratio', 'dayofyear']}. Best is trial 47 with value: 4.534050208679236.\n",
      "[I 2025-05-06 16:42:51,143] Trial 76 finished with value: 4.942518707589099 and parameters: {'lags': [-1], 'output_chunk_length': 10, 'future_cov_lags': [0], 'future_covs': ['wind_speed']}. Best is trial 47 with value: 4.534050208679236.\n",
      "[I 2025-05-06 16:42:53,079] Trial 79 finished with value: 4.534050208679236 and parameters: {'lags': [-1], 'output_chunk_length': 10, 'future_cov_lags': [0], 'future_covs': ['avg_temperature', 'avg_dewpoint_temperature', 'wind_speed', 'precip_snow_ratio', 'dayofyear']}. Best is trial 47 with value: 4.534050208679236.\n",
      "[I 2025-05-06 16:42:54,593] Trial 78 finished with value: 4.534050208679236 and parameters: {'lags': [-1], 'output_chunk_length': 10, 'future_cov_lags': [0], 'future_covs': ['avg_temperature', 'avg_dewpoint_temperature', 'wind_speed', 'precip_snow_ratio', 'dayofyear']}. Best is trial 47 with value: 4.534050208679236.\n",
      "[I 2025-05-06 16:42:57,978] Trial 82 finished with value: 4.803828394057584 and parameters: {'lags': [-1], 'output_chunk_length': 11, 'future_cov_lags': [-30], 'future_covs': ['avg_temperature', 'avg_dewpoint_temperature', 'wind_speed', 'precip_snow_ratio', 'dayofyear']}. Best is trial 47 with value: 4.534050208679236.\n",
      "[I 2025-05-06 16:42:58,930] Trial 84 finished with value: 4.957367848805949 and parameters: {'lags': [-1], 'output_chunk_length': 18, 'future_cov_lags': [-30], 'future_covs': ['wind_speed']}. Best is trial 47 with value: 4.534050208679236.\n",
      "[I 2025-05-06 16:43:01,808] Trial 85 finished with value: 4.964070269481333 and parameters: {'lags': [-1], 'output_chunk_length': 17, 'future_cov_lags': [-30], 'future_covs': ['wind_speed']}. Best is trial 47 with value: 4.534050208679236.\n",
      "[I 2025-05-06 16:43:06,033] Trial 83 finished with value: 4.803828394057584 and parameters: {'lags': [-1], 'output_chunk_length': 11, 'future_cov_lags': [-30], 'future_covs': ['avg_temperature', 'avg_dewpoint_temperature', 'wind_speed', 'precip_snow_ratio', 'dayofyear']}. Best is trial 47 with value: 4.534050208679236.\n",
      "[I 2025-05-06 16:43:08,337] Trial 89 finished with value: 4.5054303794309245 and parameters: {'lags': [-1], 'output_chunk_length': 9, 'future_cov_lags': [0], 'future_covs': ['avg_temperature', 'avg_dewpoint_temperature', 'wind_speed', 'precip_snow_ratio', 'dayofyear']}. Best is trial 89 with value: 4.5054303794309245.\n",
      "[I 2025-05-06 16:43:08,996] Trial 88 finished with value: 4.803828394057584 and parameters: {'lags': [-1], 'output_chunk_length': 11, 'future_cov_lags': [-30], 'future_covs': ['avg_temperature', 'avg_dewpoint_temperature', 'wind_speed', 'precip_snow_ratio', 'dayofyear']}. Best is trial 89 with value: 4.5054303794309245.\n",
      "[I 2025-05-06 16:43:10,037] Trial 86 finished with value: 4.961360263398306 and parameters: {'lags': [-1], 'output_chunk_length': 10, 'future_cov_lags': [-30], 'future_covs': ['wind_speed']}. Best is trial 89 with value: 4.5054303794309245.\n",
      "[I 2025-05-06 16:43:11,383] Trial 90 finished with value: 4.5054303794309245 and parameters: {'lags': [-1], 'output_chunk_length': 9, 'future_cov_lags': [0], 'future_covs': ['avg_temperature', 'avg_dewpoint_temperature', 'wind_speed', 'precip_snow_ratio', 'dayofyear']}. Best is trial 89 with value: 4.5054303794309245.\n",
      "[I 2025-05-06 16:43:12,842] Trial 87 finished with value: 4.5054303794309245 and parameters: {'lags': [-1], 'output_chunk_length': 9, 'future_cov_lags': [0], 'future_covs': ['avg_temperature', 'avg_dewpoint_temperature', 'wind_speed', 'precip_snow_ratio', 'dayofyear']}. Best is trial 89 with value: 4.5054303794309245.\n",
      "[I 2025-05-06 16:43:15,538] Trial 91 finished with value: 4.5054303794309245 and parameters: {'lags': [-1], 'output_chunk_length': 9, 'future_cov_lags': [0], 'future_covs': ['avg_temperature', 'avg_dewpoint_temperature', 'wind_speed', 'precip_snow_ratio', 'dayofyear']}. Best is trial 89 with value: 4.5054303794309245.\n",
      "[I 2025-05-06 16:43:16,888] Trial 92 finished with value: 4.966408186443814 and parameters: {'lags': [-1, -7], 'output_chunk_length': 9, 'future_cov_lags': [0], 'future_covs': ['avg_temperature', 'avg_dewpoint_temperature', 'wind_speed', 'precip_snow_ratio', 'dayofyear']}. Best is trial 89 with value: 4.5054303794309245.\n",
      "[I 2025-05-06 16:43:20,457] Trial 93 finished with value: 4.966408186443814 and parameters: {'lags': [-1, -7], 'output_chunk_length': 9, 'future_cov_lags': [0], 'future_covs': ['avg_temperature', 'avg_dewpoint_temperature', 'wind_speed', 'precip_snow_ratio', 'dayofyear']}. Best is trial 89 with value: 4.5054303794309245.\n",
      "[I 2025-05-06 16:43:22,356] Trial 98 finished with value: 4.966408186443814 and parameters: {'lags': [-1, -7], 'output_chunk_length': 9, 'future_cov_lags': [0], 'future_covs': ['avg_temperature', 'avg_dewpoint_temperature', 'wind_speed', 'precip_snow_ratio', 'dayofyear']}. Best is trial 89 with value: 4.5054303794309245.\n",
      "[I 2025-05-06 16:43:23,132] Trial 96 finished with value: 4.966408186443814 and parameters: {'lags': [-1, -7], 'output_chunk_length': 9, 'future_cov_lags': [0], 'future_covs': ['avg_temperature', 'avg_dewpoint_temperature', 'wind_speed', 'precip_snow_ratio', 'dayofyear']}. Best is trial 89 with value: 4.5054303794309245.\n",
      "[I 2025-05-06 16:43:23,332] Trial 94 finished with value: 4.966408186443814 and parameters: {'lags': [-1, -7], 'output_chunk_length': 9, 'future_cov_lags': [0], 'future_covs': ['avg_temperature', 'avg_dewpoint_temperature', 'wind_speed', 'precip_snow_ratio', 'dayofyear']}. Best is trial 89 with value: 4.5054303794309245.\n",
      "[I 2025-05-06 16:43:24,215] Trial 97 finished with value: 4.966408186443814 and parameters: {'lags': [-1, -7], 'output_chunk_length': 9, 'future_cov_lags': [0], 'future_covs': ['avg_temperature', 'avg_dewpoint_temperature', 'wind_speed', 'precip_snow_ratio', 'dayofyear']}. Best is trial 89 with value: 4.5054303794309245.\n",
      "[I 2025-05-06 16:43:24,459] Trial 95 finished with value: 4.966408186443814 and parameters: {'lags': [-1, -7], 'output_chunk_length': 9, 'future_cov_lags': [0], 'future_covs': ['avg_temperature', 'avg_dewpoint_temperature', 'wind_speed', 'precip_snow_ratio', 'dayofyear']}. Best is trial 89 with value: 4.5054303794309245.\n",
      "[I 2025-05-06 16:43:24,683] Trial 99 finished with value: 4.966408186443814 and parameters: {'lags': [-1, -7], 'output_chunk_length': 9, 'future_cov_lags': [0], 'future_covs': ['avg_temperature', 'avg_dewpoint_temperature', 'wind_speed', 'precip_snow_ratio', 'dayofyear']}. Best is trial 89 with value: 4.5054303794309245.\n"
     ]
    }
   ],
   "source": [
    "study = optuna.create_study(direction=\"minimize\")\n",
    "\n",
    "study.optimize(covariate_objective, n_trials=50, n_jobs=8, show_progress_bar=True)"
   ]
  },
  {
   "cell_type": "code",
   "execution_count": 30,
   "id": "7375e5de",
   "metadata": {},
   "outputs": [
    {
     "data": {
      "text/plain": [
       "{'lags': [-1],\n",
       " 'output_chunk_length': 9,\n",
       " 'future_cov_lags': [0],\n",
       " 'future_covs': ['avg_temperature',\n",
       "  'avg_dewpoint_temperature',\n",
       "  'wind_speed',\n",
       "  'precip_snow_ratio',\n",
       "  'dayofyear']}"
      ]
     },
     "execution_count": 30,
     "metadata": {},
     "output_type": "execute_result"
    }
   ],
   "source": [
    "study.best_params"
   ]
  }
 ],
 "metadata": {
  "kernelspec": {
   "display_name": ".venv",
   "language": "python",
   "name": "python3"
  },
  "language_info": {
   "codemirror_mode": {
    "name": "ipython",
    "version": 3
   },
   "file_extension": ".py",
   "mimetype": "text/x-python",
   "name": "python",
   "nbconvert_exporter": "python",
   "pygments_lexer": "ipython3",
   "version": "3.10.0"
  }
 },
 "nbformat": 4,
 "nbformat_minor": 5
}
