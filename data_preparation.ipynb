{
 "cells": [
  {
   "cell_type": "code",
   "execution_count": 1,
   "id": "0d9e93af",
   "metadata": {},
   "outputs": [],
   "source": [
    "import pandas as pd\n",
    "import duckdb as ddb"
   ]
  },
  {
   "cell_type": "markdown",
   "id": "3dc284df",
   "metadata": {},
   "source": [
    "## Data Extraction and Aggregation\n",
    "\n",
    "Due to the volume of data found in `Data.csv` I found it easier to operate on the data using DuckDB. At a high level I wanted a location from which I could easily extract data as and when I needed, as well as store results without flooding my RAM.\n",
    "\n",
    "The steps taken are:\n",
    "- Creating a DuckDB instance\n",
    "- Importing data from the `Data.csv`, `Kalam Climate Data.xlsx` and `SampleSubmission.csv` files\n",
    "- Aggregate the raw data (hydropower data and climate data) into a daily granularity tables\n",
    "- Use the database as and when needed to store data"
   ]
  },
  {
   "cell_type": "code",
   "execution_count": null,
   "id": "b3894666",
   "metadata": {},
   "outputs": [],
   "source": [
    "# Create the database and two schemas\n",
    "con = ddb.connect(\"./kalam_hydropower.db\")\n",
    "\n",
    "try:\n",
    "    con.sql(\"create schema 'raw';\")\n",
    "    con.sql(\"create schema 'prepared';\")\n",
    "except ddb.CatalogException as e:\n",
    "    print(f\"Schemas already exist.\")"
   ]
  },
  {
   "cell_type": "code",
   "execution_count": 3,
   "id": "87bd86f0",
   "metadata": {},
   "outputs": [
    {
     "data": {
      "text/plain": [
       "┌─────────────────────┬────────┬─────────┬──────────────┬────────────────────┬────────────────────────────────┬─────────┬──────────┬───────────────────┬───────────────────┐\n",
       "│      date_time      │ v_red  │ current │ power_factor │        kwh         │             Source             │ v_blue  │ v_yellow │ consumer_device_9 │ consumer_device_x │\n",
       "│      timestamp      │ double │ double  │    double    │       double       │            varchar             │ varchar │ varchar  │       int64       │       int64       │\n",
       "├─────────────────────┼────────┼─────────┼──────────────┼────────────────────┼────────────────────────────────┼─────────┼──────────┼───────────────────┼───────────────────┤\n",
       "│ 2024-07-22 18:20:00 │ 137.65 │    0.08 │         0.72 │         0.00066072 │ consumer_device_10_data_user_1 │ NULL    │ NULL     │                 0 │                10 │\n",
       "│ 2024-07-22 18:25:00 │ 122.82 │    0.08 │         0.73 │ 0.0005977239999999 │ consumer_device_10_data_user_1 │ NULL    │ NULL     │                 0 │                10 │\n",
       "│ 2024-07-22 18:30:00 │  119.7 │    0.08 │         0.74 │         0.00059052 │ consumer_device_10_data_user_1 │ NULL    │ NULL     │                 0 │                10 │\n",
       "│ 2024-07-22 18:35:00 │ 124.53 │    0.08 │         0.75 │ 0.0006226499999999 │ consumer_device_10_data_user_1 │ NULL    │ NULL     │                 0 │                10 │\n",
       "│ 2024-07-22 18:40:00 │ 134.84 │    0.08 │         0.74 │ 0.0006652106666666 │ consumer_device_10_data_user_1 │ NULL    │ NULL     │                 0 │                10 │\n",
       "│ 2024-07-22 18:45:00 │ 128.87 │    0.08 │         0.74 │ 0.0006357586666666 │ consumer_device_10_data_user_1 │ NULL    │ NULL     │                 0 │                10 │\n",
       "│ 2024-07-22 18:50:00 │  122.4 │    0.08 │         0.72 │ 0.0005875199999999 │ consumer_device_10_data_user_1 │ NULL    │ NULL     │                 0 │                10 │\n",
       "│ 2024-07-22 18:55:00 │ 115.22 │    0.09 │         0.76 │        0.000656754 │ consumer_device_10_data_user_1 │ NULL    │ NULL     │                 0 │                10 │\n",
       "│ 2024-07-22 19:00:00 │ 104.07 │     0.1 │         0.77 │       0.0006677825 │ consumer_device_10_data_user_1 │ NULL    │ NULL     │                 0 │                10 │\n",
       "│ 2024-07-22 19:05:00 │  95.49 │     0.1 │         0.73 │ 0.0005808974999999 │ consumer_device_10_data_user_1 │ NULL    │ NULL     │                 0 │                10 │\n",
       "├─────────────────────┴────────┴─────────┴──────────────┴────────────────────┴────────────────────────────────┴─────────┴──────────┴───────────────────┴───────────────────┤\n",
       "│ 10 rows                                                                                                                                                       10 columns │\n",
       "└──────────────────────────────────────────────────────────────────────────────────────────────────────────────────────────────────────────────────────────────────────────┘"
      ]
     },
     "execution_count": 3,
     "metadata": {},
     "output_type": "execute_result"
    }
   ],
   "source": [
    "# Check the datatypes etc before loading - note that v_blue and v_yellow are detected as varchars and must be explicitly cast to doubles\n",
    "con.sql(\"select * from read_csv('./data/Data.csv') limit 10;\")"
   ]
  },
  {
   "cell_type": "code",
   "execution_count": 4,
   "id": "51b9fc1c",
   "metadata": {},
   "outputs": [
    {
     "data": {
      "application/vnd.jupyter.widget-view+json": {
       "model_id": "e40f308e1dd24eeeae11b0ea20022557",
       "version_major": 2,
       "version_minor": 0
      },
      "text/plain": [
       "FloatProgress(value=0.0, layout=Layout(width='auto'), style=ProgressStyle(bar_color='black'))"
      ]
     },
     "metadata": {},
     "output_type": "display_data"
    }
   ],
   "source": [
    "# Create a table ignoring the columns consumer device 9 etc - these are assumed to be errors\n",
    "try:\n",
    "    con.sql(\"\"\"\n",
    "        create table raw.hydropower_production as\n",
    "            select date_time, Source as source, v_red, cast(v_blue as double) as v_blue, cast(v_yellow as double) as v_yellow, current, kwh\n",
    "            from read_csv('./data/Data.csv');\n",
    "    \"\"\")\n",
    "except ddb.CatalogException as e:\n",
    "    print(f\"Table already exists: {e}\")"
   ]
  },
  {
   "cell_type": "code",
   "execution_count": 5,
   "id": "96c3f2ae",
   "metadata": {},
   "outputs": [
    {
     "data": {
      "application/vnd.jupyter.widget-view+json": {
       "model_id": "26d57447d285435c8b5dac6200ed439b",
       "version_major": 2,
       "version_minor": 0
      },
      "text/plain": [
       "FloatProgress(value=0.0, layout=Layout(width='auto'), style=ProgressStyle(bar_color='black'))"
      ]
     },
     "metadata": {},
     "output_type": "display_data"
    },
    {
     "data": {
      "text/plain": [
       "┌─────────────────────┬──────────────────┬───────────────────────────┬────────────────────────┬────────────────────────┬──────────────────────────┬───────────────┬────────────────┐\n",
       "│      Date Time      │ Temperature (°C) │ Dewpoint Temperature (°C) │ U Wind Component (m/s) │ V Wind Component (m/s) │ Total Precipitation (mm) │ Snowfall (mm) │ Snow Cover (%) │\n",
       "│      timestamp      │      double      │          double           │         double         │         double         │          double          │    double     │     double     │\n",
       "├─────────────────────┼──────────────────┼───────────────────────────┼────────────────────────┼────────────────────────┼──────────────────────────┼───────────────┼────────────────┤\n",
       "│ 2023-06-03 13:00:00 │      7.199731445 │              -2.448126221 │           -0.034194946 │             0.06098938 │                 0.000377 │           0.0 │    99.97265625 │\n",
       "│ 2023-06-03 14:00:00 │      6.000619507 │              -2.597540283 │           -0.080688477 │            0.018585205 │                 0.000398 │           0.0 │    99.97265625 │\n",
       "│ 2023-06-03 15:00:00 │      4.789971924 │              -2.696951294 │            0.057449341 │           -0.352020264 │                 0.000418 │           0.0 │    99.97265625 │\n",
       "│ 2023-06-03 16:00:00 │      3.158746338 │              -2.879324341 │            0.051528931 │           -0.608947754 │                  0.00042 │           0.0 │    99.97265625 │\n",
       "│ 2023-06-03 17:00:00 │      1.671426392 │              -3.255606079 │            0.056137085 │           -0.739837646 │                  0.00042 │           0.0 │    99.97265625 │\n",
       "│ 2023-06-03 18:00:00 │      0.660638428 │              -3.664709473 │            0.033340454 │           -0.815216064 │                  0.00042 │           0.0 │    99.97265625 │\n",
       "│ 2023-06-03 19:00:00 │      0.499902344 │               -3.00597229 │            0.071853638 │            -0.89201355 │                  0.00042 │           0.0 │    99.97265625 │\n",
       "│ 2023-06-03 20:00:00 │     -0.143438721 │               -3.43477478 │            0.071380615 │            -0.94569397 │                 0.000421 │           0.0 │    99.97265625 │\n",
       "│ 2023-06-03 21:00:00 │     -0.676046753 │              -3.869360352 │            0.045181274 │           -0.974212646 │                 0.000421 │           0.0 │    99.97265625 │\n",
       "│ 2023-06-03 22:00:00 │     -1.184606934 │              -4.285437012 │            0.016555786 │           -0.991073608 │                 0.000421 │           0.0 │    99.97265625 │\n",
       "├─────────────────────┴──────────────────┴───────────────────────────┴────────────────────────┴────────────────────────┴──────────────────────────┴───────────────┴────────────────┤\n",
       "│ 10 rows                                                                                                                                                                8 columns │\n",
       "└──────────────────────────────────────────────────────────────────────────────────────────────────────────────────────────────────────────────────────────────────────────────────┘"
      ]
     },
     "execution_count": 5,
     "metadata": {},
     "output_type": "execute_result"
    }
   ],
   "source": [
    "# This is a package needed to read excel natively in DDB\n",
    "con.sql(\"INSTALL excel; LOAD excel\")\n",
    "\n",
    "con.sql(\"select * from './data/Climate Data/Kalam Climate Data.xlsx' limit 10\")"
   ]
  },
  {
   "cell_type": "code",
   "execution_count": 6,
   "id": "d7dd2ebb",
   "metadata": {},
   "outputs": [],
   "source": [
    "# Rename climate column names as the unusual characters make things difficult\n",
    "try:\n",
    "    con.sql(\"\"\"\n",
    "        create table raw.climate as\n",
    "            select \"Date Time\" as date_time, \"Temperature (°C)\" as temperature, \"Dewpoint Temperature (°C)\" as dewpoint_temperature, \"U Wind Component (m/s)\" as u_wind_component, \"V Wind Component (m/s)\" as v_wind_component, \"Total Precipitation (mm)\" as total_precipitation, \"Snowfall (mm)\" as snowfall, \"Snow Cover (%)\" as snow_cover_perc\n",
    "            from './data/Climate Data/Kalam Climate Data.xlsx'\n",
    "    \"\"\")\n",
    "except ddb.CatalogException as e:\n",
    "    print(f\"Table already exists: {e}\")"
   ]
  },
  {
   "cell_type": "code",
   "execution_count": 7,
   "id": "7204e89a",
   "metadata": {},
   "outputs": [
    {
     "data": {
      "text/plain": [
       "┌─────────────────────┬──────────────┬──────────────────────┬──────────────────┬──────────────────┬─────────────────────┬──────────┬─────────────────┐\n",
       "│      date_time      │ temperature  │ dewpoint_temperature │ u_wind_component │ v_wind_component │ total_precipitation │ snowfall │ snow_cover_perc │\n",
       "│      timestamp      │    double    │        double        │      double      │      double      │       double        │  double  │     double      │\n",
       "├─────────────────────┼──────────────┼──────────────────────┼──────────────────┼──────────────────┼─────────────────────┼──────────┼─────────────────┤\n",
       "│ 2023-06-03 13:00:00 │  7.199731445 │         -2.448126221 │     -0.034194946 │       0.06098938 │            0.000377 │      0.0 │     99.97265625 │\n",
       "│ 2023-06-03 14:00:00 │  6.000619507 │         -2.597540283 │     -0.080688477 │      0.018585205 │            0.000398 │      0.0 │     99.97265625 │\n",
       "│ 2023-06-03 15:00:00 │  4.789971924 │         -2.696951294 │      0.057449341 │     -0.352020264 │            0.000418 │      0.0 │     99.97265625 │\n",
       "│ 2023-06-03 16:00:00 │  3.158746338 │         -2.879324341 │      0.051528931 │     -0.608947754 │             0.00042 │      0.0 │     99.97265625 │\n",
       "│ 2023-06-03 17:00:00 │  1.671426392 │         -3.255606079 │      0.056137085 │     -0.739837646 │             0.00042 │      0.0 │     99.97265625 │\n",
       "│ 2023-06-03 18:00:00 │  0.660638428 │         -3.664709473 │      0.033340454 │     -0.815216064 │             0.00042 │      0.0 │     99.97265625 │\n",
       "│ 2023-06-03 19:00:00 │  0.499902344 │          -3.00597229 │      0.071853638 │      -0.89201355 │             0.00042 │      0.0 │     99.97265625 │\n",
       "│ 2023-06-03 20:00:00 │ -0.143438721 │          -3.43477478 │      0.071380615 │      -0.94569397 │            0.000421 │      0.0 │     99.97265625 │\n",
       "│ 2023-06-03 21:00:00 │ -0.676046753 │         -3.869360352 │      0.045181274 │     -0.974212646 │            0.000421 │      0.0 │     99.97265625 │\n",
       "│ 2023-06-03 22:00:00 │ -1.184606934 │         -4.285437012 │      0.016555786 │     -0.991073608 │            0.000421 │      0.0 │     99.97265625 │\n",
       "├─────────────────────┴──────────────┴──────────────────────┴──────────────────┴──────────────────┴─────────────────────┴──────────┴─────────────────┤\n",
       "│ 10 rows                                                                                                                                  8 columns │\n",
       "└────────────────────────────────────────────────────────────────────────────────────────────────────────────────────────────────────────────────────┘"
      ]
     },
     "execution_count": 7,
     "metadata": {},
     "output_type": "execute_result"
    }
   ],
   "source": [
    "con.sql(\"select * from raw.climate limit 10\")"
   ]
  },
  {
   "cell_type": "code",
   "execution_count": 8,
   "id": "915dbb16",
   "metadata": {},
   "outputs": [],
   "source": [
    "try:\n",
    "    con.sql(\"\"\"\n",
    "        create table raw.sample_submission as\n",
    "            select * from read_csv('./data/SampleSubmission.csv')\n",
    "    \"\"\")\n",
    "except ddb.CatalogException as e:\n",
    "    print(f\"Table already exists: {e}\")"
   ]
  },
  {
   "cell_type": "code",
   "execution_count": 9,
   "id": "7eab8685",
   "metadata": {},
   "outputs": [
    {
     "data": {
      "text/plain": [
       "┌───────────────────────────────────────────┬───────┐\n",
       "│                    ID                     │  kwh  │\n",
       "│                  varchar                  │ int64 │\n",
       "├───────────────────────────────────────────┼───────┤\n",
       "│ 2024-09-24_consumer_device_12_data_user_1 │     0 │\n",
       "│ 2024-09-25_consumer_device_12_data_user_1 │     0 │\n",
       "│ 2024-09-26_consumer_device_12_data_user_1 │     0 │\n",
       "│ 2024-09-27_consumer_device_12_data_user_1 │     0 │\n",
       "│ 2024-09-28_consumer_device_12_data_user_1 │     0 │\n",
       "│ 2024-09-29_consumer_device_12_data_user_1 │     0 │\n",
       "│ 2024-09-30_consumer_device_12_data_user_1 │     0 │\n",
       "│ 2024-10-01_consumer_device_12_data_user_1 │     0 │\n",
       "│ 2024-10-02_consumer_device_12_data_user_1 │     0 │\n",
       "│ 2024-10-03_consumer_device_12_data_user_1 │     0 │\n",
       "├───────────────────────────────────────────┴───────┤\n",
       "│ 10 rows                                 2 columns │\n",
       "└───────────────────────────────────────────────────┘"
      ]
     },
     "execution_count": 9,
     "metadata": {},
     "output_type": "execute_result"
    }
   ],
   "source": [
    "con.sql(\"select * from raw.sample_submission limit 10\")"
   ]
  },
  {
   "cell_type": "markdown",
   "id": "67b4ce3f",
   "metadata": {},
   "source": [
    "### Aggregation\n",
    "The main goal here is to make the tables `raw.hydropower_production` and `raw.climate` exist at a daily granularity, this is easier to work with in pandas and the forecasting exercise/validation occurs on a daily level rather than at 5 minute or 1 hour intervals."
   ]
  },
  {
   "cell_type": "code",
   "execution_count": 10,
   "id": "53a6c6dc",
   "metadata": {},
   "outputs": [
    {
     "data": {
      "application/vnd.jupyter.widget-view+json": {
       "model_id": "70a50979b4ed4371a1ddaa37aa5cf71e",
       "version_major": 2,
       "version_minor": 0
      },
      "text/plain": [
       "FloatProgress(value=0.0, layout=Layout(width='auto'), style=ProgressStyle(bar_color='black'))"
      ]
     },
     "metadata": {},
     "output_type": "display_data"
    }
   ],
   "source": [
    "# Aggregate the power production data\n",
    "try:\n",
    "    con.sql(\"\"\"\n",
    "    create table prepared.daily_hydropower_production as\n",
    "            with temp as (\n",
    "                select\n",
    "                    *,\n",
    "                    cast(date_time as date) as date,\n",
    "                    regexp_extract(source, 'consumer_device_(\\d+)', 1) as consumer_device,\n",
    "                    regexp_extract(source, '_data_user_(\\d+)', 1) as data_user\n",
    "                from raw.hydropower_production\n",
    "            )\n",
    "            select\n",
    "                date,\n",
    "                source,\n",
    "                consumer_device,\n",
    "                data_user,\n",
    "                sum(kwh) as kwh\n",
    "            from temp\n",
    "            group by date, source, consumer_device, data_user\n",
    "            order by source, date\n",
    "    \"\"\")\n",
    "except ddb.CatalogException as e:\n",
    "    print(f\"Table already exists: {e}\")"
   ]
  },
  {
   "cell_type": "code",
   "execution_count": 11,
   "id": "add4cf80",
   "metadata": {},
   "outputs": [
    {
     "data": {
      "text/plain": [
       "┌────────────┬────────────────────────────────┬─────────────────┬───────────┬──────────────────────┐\n",
       "│    date    │             source             │ consumer_device │ data_user │         kwh          │\n",
       "│    date    │            varchar             │     varchar     │  varchar  │        double        │\n",
       "├────────────┼────────────────────────────────┼─────────────────┼───────────┼──────────────────────┤\n",
       "│ 2024-07-22 │ consumer_device_10_data_user_1 │ 10              │ 1         │   0.0243301524166643 │\n",
       "│ 2024-07-23 │ consumer_device_10_data_user_1 │ 10              │ 1         │  0.10355964899999259 │\n",
       "│ 2024-07-24 │ consumer_device_10_data_user_1 │ 10              │ 1         │  0.13754253833332433 │\n",
       "│ 2024-07-25 │ consumer_device_10_data_user_1 │ 10              │ 1         │  0.12101083841665729 │\n",
       "│ 2024-07-26 │ consumer_device_10_data_user_1 │ 10              │ 1         │                  0.0 │\n",
       "│ 2024-07-27 │ consumer_device_10_data_user_1 │ 10              │ 1         │                  0.0 │\n",
       "│ 2024-07-28 │ consumer_device_10_data_user_1 │ 10              │ 1         │    0.506207614583327 │\n",
       "│ 2024-07-29 │ consumer_device_10_data_user_1 │ 10              │ 1         │  0.16224065333333332 │\n",
       "│ 2024-07-30 │ consumer_device_10_data_user_1 │ 10              │ 1         │   1.3618397769999986 │\n",
       "│ 2024-07-31 │ consumer_device_10_data_user_1 │ 10              │ 1         │ 0.014253664499998433 │\n",
       "├────────────┴────────────────────────────────┴─────────────────┴───────────┴──────────────────────┤\n",
       "│ 10 rows                                                                                5 columns │\n",
       "└──────────────────────────────────────────────────────────────────────────────────────────────────┘"
      ]
     },
     "execution_count": 11,
     "metadata": {},
     "output_type": "execute_result"
    }
   ],
   "source": [
    "con.sql(\"select * from prepared.daily_hydropower_production limit 10\")"
   ]
  },
  {
   "cell_type": "code",
   "execution_count": 12,
   "id": "35745b13",
   "metadata": {},
   "outputs": [],
   "source": [
    "# Similarly aggregate the climate data\n",
    "try:\n",
    "    con.sql(\"\"\"\n",
    "        create table prepared.daily_climate as (\n",
    "        select\n",
    "            cast(date_time as date) as date,\n",
    "            avg(temperature) as avg_temperature,\n",
    "            avg(dewpoint_temperature) as avg_dewpoint_temperature,\n",
    "            avg(u_wind_component) as avg_u_wind_component,\n",
    "            avg(v_wind_component) as avg_v_wind_component,\n",
    "            sum(total_precipitation) as total_precipitation,\n",
    "            sum(snowfall) as total_snowfall,\n",
    "            avg(snow_cover_perc) as avg_snow_cover_perc\n",
    "        from raw.climate\n",
    "        group by cast(date_time as date)\n",
    "    )\n",
    "    \"\"\")\n",
    "except ddb.CatalogException as e:\n",
    "    print(f\"Table already exists: {e}\")"
   ]
  },
  {
   "cell_type": "code",
   "execution_count": 13,
   "id": "67b41339",
   "metadata": {},
   "outputs": [
    {
     "data": {
      "text/plain": [
       "┌────────────┬────────────────────┬──────────────────────────┬───────────────────────┬──────────────────────┬───────────────────────┬────────────────────────┬─────────────────────┐\n",
       "│    date    │  avg_temperature   │ avg_dewpoint_temperature │ avg_u_wind_component  │ avg_v_wind_component │  total_precipitation  │     total_snowfall     │ avg_snow_cover_perc │\n",
       "│    date    │       double       │          double          │        double         │        double        │        double         │         double         │       double        │\n",
       "├────────────┼────────────────────┼──────────────────────────┼───────────────────────┼──────────────────────┼───────────────────────┼────────────────────────┼─────────────────────┤\n",
       "│ 2023-06-03 │ 1.8602802623636363 │             -3.348663885 │   0.02505354445454546 │  -0.6577259409999999 │  0.004557000000000001 │                    0.0 │         99.97265625 │\n",
       "│ 2023-06-04 │ 3.9927396138333333 │      -1.9052026112499998 │  -0.18090852095833332 │  -0.5052978992916666 │  0.024096401999999996 │                    0.0 │         99.97265625 │\n",
       "│ 2023-06-05 │  4.794523493333333 │      -3.7816572824166665 │       -0.145114262875 │  -0.4981832901666667 │  0.011579616600000002 │ 1.1659999999999995e-06 │         99.97265625 │\n",
       "│ 2023-06-06 │  6.304390207916668 │       -4.670614623874999 │  0.018054326333333332 │ -0.47862307224999995 │  0.008913719000000002 │               5.22e-08 │         99.97265625 │\n",
       "│ 2023-06-07 │  7.003922399874999 │       -3.965763473583332 │    0.0837014565416667 │  -0.5165977413749999 │  0.008649500000000001 │                    0.0 │         99.97265625 │\n",
       "│ 2023-06-08 │  8.934241866791666 │      -1.6712281545000003 │  -0.23853810633333336 │  -0.7141621907916668 │             0.0050602 │                    0.0 │         99.97265625 │\n",
       "│ 2023-06-09 │ 10.623484547458334 │      -1.6944539388333333 │   -0.1919485727916667 │  -0.6196820735416668 │ 0.0039260200000000006 │                    0.0 │         99.97265625 │\n",
       "│ 2023-06-10 │     10.46279741975 │      -0.5161499022500001 │  -0.06802558899999996 │  -0.2475547392916667 │  0.006985389999999999 │                    0.0 │         99.97265625 │\n",
       "│ 2023-06-11 │  9.910082117750001 │       0.9619562783333335 │ -0.026981830666666675 │ -0.24401926995833337 │  0.012631439999999997 │                    0.0 │         99.97265625 │\n",
       "│ 2023-06-12 │  9.560289637041665 │       3.2352411906666667 │   -0.0788656870416667 │  -0.0976083675833333 │           0.042494397 │                    0.0 │         99.97265625 │\n",
       "├────────────┴────────────────────┴──────────────────────────┴───────────────────────┴──────────────────────┴───────────────────────┴────────────────────────┴─────────────────────┤\n",
       "│ 10 rows                                                                                                                                                                8 columns │\n",
       "└──────────────────────────────────────────────────────────────────────────────────────────────────────────────────────────────────────────────────────────────────────────────────┘"
      ]
     },
     "execution_count": 13,
     "metadata": {},
     "output_type": "execute_result"
    }
   ],
   "source": [
    "con.sql(\"select * from prepared.daily_climate limit 10\")"
   ]
  },
  {
   "cell_type": "code",
   "execution_count": 14,
   "id": "c7f46003",
   "metadata": {},
   "outputs": [],
   "source": [
    "con.close()"
   ]
  }
 ],
 "metadata": {
  "kernelspec": {
   "display_name": ".venv",
   "language": "python",
   "name": "python3"
  },
  "language_info": {
   "codemirror_mode": {
    "name": "ipython",
    "version": 3
   },
   "file_extension": ".py",
   "mimetype": "text/x-python",
   "name": "python",
   "nbconvert_exporter": "python",
   "pygments_lexer": "ipython3",
   "version": "3.10.0"
  }
 },
 "nbformat": 4,
 "nbformat_minor": 5
}
